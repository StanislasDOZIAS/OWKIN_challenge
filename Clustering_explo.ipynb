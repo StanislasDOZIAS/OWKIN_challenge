{
 "cells": [
  {
   "cell_type": "code",
   "execution_count": 1,
   "outputs": [],
   "source": [
    "from pathlib import Path\n",
    "import os\n",
    "\n",
    "import copy\n",
    "\n",
    "import wandb\n",
    "import matplotlib.pyplot as plt\n",
    "import seaborn as sns\n",
    "from tqdm import tqdm\n",
    "\n",
    "import numpy as np\n",
    "import pandas as pd\n",
    "\n",
    "\n",
    "import torch\n",
    "from torch import nn\n",
    "from torch.utils.data import DataLoader, Dataset\n",
    "\n",
    "from sklearn.metrics import roc_auc_score, RocCurveDisplay\n",
    "from sklearn.model_selection import StratifiedKFold"
   ],
   "metadata": {
    "collapsed": false,
    "pycharm": {
     "name": "#%%\n"
    }
   }
  },
  {
   "cell_type": "markdown",
   "source": [
    "### Data set creation, copied from MLP.ipynb"
   ],
   "metadata": {
    "collapsed": false,
    "pycharm": {
     "name": "#%% md\n"
    }
   }
  },
  {
   "cell_type": "code",
   "execution_count": 2,
   "outputs": [
    {
     "name": "stdout",
     "output_type": "stream",
     "text": [
      "Training data dimensions: (344, 4)\n"
     ]
    },
    {
     "data": {
      "text/plain": "    Sample ID Patient ID Center ID  Target\n0  ID_001.npy      P_001       C_1       0\n1  ID_002.npy      P_002       C_2       1\n2  ID_005.npy      P_005       C_5       0\n3  ID_006.npy      P_006       C_5       0\n4  ID_007.npy      P_007       C_2       1",
      "text/html": "<div>\n<style scoped>\n    .dataframe tbody tr th:only-of-type {\n        vertical-align: middle;\n    }\n\n    .dataframe tbody tr th {\n        vertical-align: top;\n    }\n\n    .dataframe thead th {\n        text-align: right;\n    }\n</style>\n<table border=\"1\" class=\"dataframe\">\n  <thead>\n    <tr style=\"text-align: right;\">\n      <th></th>\n      <th>Sample ID</th>\n      <th>Patient ID</th>\n      <th>Center ID</th>\n      <th>Target</th>\n    </tr>\n  </thead>\n  <tbody>\n    <tr>\n      <th>0</th>\n      <td>ID_001.npy</td>\n      <td>P_001</td>\n      <td>C_1</td>\n      <td>0</td>\n    </tr>\n    <tr>\n      <th>1</th>\n      <td>ID_002.npy</td>\n      <td>P_002</td>\n      <td>C_2</td>\n      <td>1</td>\n    </tr>\n    <tr>\n      <th>2</th>\n      <td>ID_005.npy</td>\n      <td>P_005</td>\n      <td>C_5</td>\n      <td>0</td>\n    </tr>\n    <tr>\n      <th>3</th>\n      <td>ID_006.npy</td>\n      <td>P_006</td>\n      <td>C_5</td>\n      <td>0</td>\n    </tr>\n    <tr>\n      <th>4</th>\n      <td>ID_007.npy</td>\n      <td>P_007</td>\n      <td>C_2</td>\n      <td>1</td>\n    </tr>\n  </tbody>\n</table>\n</div>"
     },
     "execution_count": 2,
     "metadata": {},
     "output_type": "execute_result"
    }
   ],
   "source": [
    "# put your own path to the data root directory (see example in `Data architecture` section)\n",
    "data_dir = Path(\"data/\")\n",
    "\n",
    "# load the training and testing data sets\n",
    "train_features_dir = data_dir / \"train_input\" / \"moco_features\"\n",
    "test_features_dir = data_dir / \"test_input\" / \"moco_features\"\n",
    "df_train_val = pd.read_csv(data_dir  / \"supplementary_data\" / \"train_metadata.csv\")\n",
    "df_test = pd.read_csv(data_dir  / \"supplementary_data\" / \"test_metadata.csv\")\n",
    "\n",
    "# concatenate y_train_val and df_train_val\n",
    "y_train_val = pd.read_csv(data_dir  / \"train_output.csv\")\n",
    "df_train_val = df_train_val.merge(y_train_val, on=\"Sample ID\")\n",
    "\n",
    "print(f\"Training data dimensions: {df_train_val.shape}\")  # (344, 4)\n",
    "df_train_val.head()"
   ],
   "metadata": {
    "collapsed": false,
    "pycharm": {
     "name": "#%%\n"
    }
   }
  },
  {
   "cell_type": "code",
   "execution_count": 3,
   "outputs": [
    {
     "name": "stderr",
     "output_type": "stream",
     "text": [
      "100%|██████████| 344/344 [00:19<00:00, 17.23it/s]\n"
     ]
    }
   ],
   "source": [
    "X_train_val = []\n",
    "X_train_val_all = []\n",
    "y_train_val = []\n",
    "\n",
    "centers_train_val = []\n",
    "patients_train_val = []\n",
    "\n",
    "for sample, label, center, patient in tqdm(\n",
    "    df_train_val[[\"Sample ID\", \"Target\", \"Center ID\", \"Patient ID\"]].values\n",
    "):\n",
    "    # load the coordinates and features (1000, 3+2048)\n",
    "    _features = np.load(train_features_dir / sample)\n",
    "    # get coordinates (zoom level, tile x-coord on the slide, tile y-coord on the slide)\n",
    "    # and the MoCo V2 features\n",
    "    coordinates, features = _features[:, :3], _features[:, 3:]  # Ks\n",
    "\n",
    "    # slide-level averaging\n",
    "    X_train_val.append(np.mean(features, axis=0))\n",
    "    X_train_val_all.append(features)\n",
    "    y_train_val.append(label)\n",
    "\n",
    "    centers_train_val.append(center)\n",
    "    patients_train_val.append(patient)\n",
    "\n",
    "# convert to numpy arrays\n",
    "X_train_val = np.array(X_train_val)\n",
    "X_train_val_all = np.array(X_train_val_all)\n",
    "y_train_val = np.array(y_train_val)\n",
    "\n",
    "centers_train_val = np.array(centers_train_val)\n",
    "patients_train_val = np.array(patients_train_val)"
   ],
   "metadata": {
    "collapsed": false,
    "pycharm": {
     "name": "#%%\n"
    }
   }
  },
  {
   "cell_type": "code",
   "execution_count": 4,
   "outputs": [
    {
     "name": "stdout",
     "output_type": "stream",
     "text": [
      "Training set specifications\n",
      "---------------------------\n",
      "344 unique samples\n",
      "305 unique patients\n",
      "\n"
     ]
    }
   ],
   "source": [
    "patients_unique = np.unique(patients_train_val)\n",
    "y_unique = np.array(\n",
    "    [np.mean(y_train_val[patients_train_val == p]) for p in patients_unique]\n",
    ")\n",
    "\n",
    "print(\n",
    "    \"Training set specifications\\n\"\n",
    "    \"---------------------------\\n\"\n",
    "    f\"{len(X_train_val)} unique samples\\n\"\n",
    "    f\"{len(patients_unique)} unique patients\\n\"\n",
    ")"
   ],
   "metadata": {
    "collapsed": false,
    "pycharm": {
     "name": "#%%\n"
    }
   }
  },
  {
   "cell_type": "code",
   "execution_count": 6,
   "outputs": [],
   "source": [
    "kfold = StratifiedKFold(5, shuffle=True, random_state=42)\n",
    "# split is performed at the patient-level\n",
    "for train_idx_, val_idx_ in kfold.split(patients_unique, y_unique):\n",
    "    # retrieve the indexes of the samples corresponding to the\n",
    "    # patients in `train_idx_` and `val_idx_`\n",
    "    train_idx = np.arange(len(X_train_val))[\n",
    "        pd.Series(patients_train_val).isin(patients_unique[train_idx_])\n",
    "    ]\n",
    "    val_idx = np.arange(len(X_train_val))[\n",
    "        pd.Series(patients_train_val).isin(patients_unique[val_idx_])\n",
    "    ]\n",
    "    # set the training and validation folds\n",
    "    X_train = X_train_val[train_idx]\n",
    "    X_val = X_train_val[val_idx]\n",
    "\n",
    "    X_train_all = X_train_val_all[train_idx]\n",
    "    X_val_all = X_train_val_all[val_idx]\n",
    "\n",
    "    y_train = y_train_val[train_idx]\n",
    "    y_val = y_train_val[val_idx]\n",
    "    break"
   ],
   "metadata": {
    "collapsed": false,
    "pycharm": {
     "name": "#%%\n"
    }
   }
  },
  {
   "cell_type": "markdown",
   "source": [
    "### Test"
   ],
   "metadata": {
    "collapsed": false,
    "pycharm": {
     "name": "#%% md\n"
    }
   }
  },
  {
   "cell_type": "code",
   "execution_count": 11,
   "outputs": [
    {
     "data": {
      "text/plain": "(276, 1000, 2048)"
     },
     "execution_count": 11,
     "metadata": {},
     "output_type": "execute_result"
    }
   ],
   "source": [
    "X_train_all.shape"
   ],
   "metadata": {
    "collapsed": false,
    "pycharm": {
     "name": "#%%\n"
    }
   }
  },
  {
   "cell_type": "code",
   "execution_count": 47,
   "outputs": [],
   "source": [
    "X_train_cluster = X_train_all[~y_train.astype(bool)]\n",
    "X_train_cluster = X_train_cluster.reshape(-1, 2048)"
   ],
   "metadata": {
    "collapsed": false,
    "pycharm": {
     "name": "#%%\n"
    }
   }
  },
  {
   "cell_type": "code",
   "execution_count": 48,
   "outputs": [
    {
     "data": {
      "text/plain": "(170000, 2048)"
     },
     "execution_count": 48,
     "metadata": {},
     "output_type": "execute_result"
    }
   ],
   "source": [
    "X_train_cluster.shape"
   ],
   "metadata": {
    "collapsed": false,
    "pycharm": {
     "name": "#%%\n"
    }
   }
  },
  {
   "cell_type": "code",
   "execution_count": 111,
   "outputs": [],
   "source": [
    "def get_wss(data, labels, centroids):\n",
    "    wss = 0\n",
    "    for l in np.unique(labels):\n",
    "        data_l = data[labels == l]\n",
    "        resid = data_l - centroids[l]\n",
    "        wss += (resid**2).sum()\n",
    "    return wss"
   ],
   "metadata": {
    "collapsed": false,
    "pycharm": {
     "name": "#%%\n"
    }
   }
  },
  {
   "cell_type": "code",
   "execution_count": 115,
   "outputs": [
    {
     "name": "stderr",
     "output_type": "stream",
     "text": [
      "C:\\Users\\Emeric\\PycharmProjects\\OWKIN_challenge\\venv\\lib\\site-packages\\sklearn\\cluster\\_kmeans.py:870: FutureWarning: The default value of `n_init` will change from 3 to 'auto' in 1.4. Set the value of `n_init` explicitly to suppress the warning\n",
      "  warnings.warn(\n",
      "C:\\Users\\Emeric\\PycharmProjects\\OWKIN_challenge\\venv\\lib\\site-packages\\sklearn\\cluster\\_kmeans.py:870: FutureWarning: The default value of `n_init` will change from 3 to 'auto' in 1.4. Set the value of `n_init` explicitly to suppress the warning\n",
      "  warnings.warn(\n",
      "C:\\Users\\Emeric\\PycharmProjects\\OWKIN_challenge\\venv\\lib\\site-packages\\sklearn\\cluster\\_kmeans.py:870: FutureWarning: The default value of `n_init` will change from 3 to 'auto' in 1.4. Set the value of `n_init` explicitly to suppress the warning\n",
      "  warnings.warn(\n",
      "C:\\Users\\Emeric\\PycharmProjects\\OWKIN_challenge\\venv\\lib\\site-packages\\sklearn\\cluster\\_kmeans.py:870: FutureWarning: The default value of `n_init` will change from 3 to 'auto' in 1.4. Set the value of `n_init` explicitly to suppress the warning\n",
      "  warnings.warn(\n",
      "C:\\Users\\Emeric\\PycharmProjects\\OWKIN_challenge\\venv\\lib\\site-packages\\sklearn\\cluster\\_kmeans.py:870: FutureWarning: The default value of `n_init` will change from 3 to 'auto' in 1.4. Set the value of `n_init` explicitly to suppress the warning\n",
      "  warnings.warn(\n",
      "C:\\Users\\Emeric\\PycharmProjects\\OWKIN_challenge\\venv\\lib\\site-packages\\sklearn\\cluster\\_kmeans.py:870: FutureWarning: The default value of `n_init` will change from 3 to 'auto' in 1.4. Set the value of `n_init` explicitly to suppress the warning\n",
      "  warnings.warn(\n",
      "C:\\Users\\Emeric\\PycharmProjects\\OWKIN_challenge\\venv\\lib\\site-packages\\sklearn\\cluster\\_kmeans.py:870: FutureWarning: The default value of `n_init` will change from 3 to 'auto' in 1.4. Set the value of `n_init` explicitly to suppress the warning\n",
      "  warnings.warn(\n",
      "C:\\Users\\Emeric\\PycharmProjects\\OWKIN_challenge\\venv\\lib\\site-packages\\sklearn\\cluster\\_kmeans.py:870: FutureWarning: The default value of `n_init` will change from 3 to 'auto' in 1.4. Set the value of `n_init` explicitly to suppress the warning\n",
      "  warnings.warn(\n",
      "C:\\Users\\Emeric\\PycharmProjects\\OWKIN_challenge\\venv\\lib\\site-packages\\sklearn\\cluster\\_kmeans.py:870: FutureWarning: The default value of `n_init` will change from 3 to 'auto' in 1.4. Set the value of `n_init` explicitly to suppress the warning\n",
      "  warnings.warn(\n",
      "C:\\Users\\Emeric\\PycharmProjects\\OWKIN_challenge\\venv\\lib\\site-packages\\sklearn\\cluster\\_kmeans.py:870: FutureWarning: The default value of `n_init` will change from 3 to 'auto' in 1.4. Set the value of `n_init` explicitly to suppress the warning\n",
      "  warnings.warn(\n",
      "C:\\Users\\Emeric\\PycharmProjects\\OWKIN_challenge\\venv\\lib\\site-packages\\sklearn\\cluster\\_kmeans.py:870: FutureWarning: The default value of `n_init` will change from 3 to 'auto' in 1.4. Set the value of `n_init` explicitly to suppress the warning\n",
      "  warnings.warn(\n",
      "C:\\Users\\Emeric\\PycharmProjects\\OWKIN_challenge\\venv\\lib\\site-packages\\sklearn\\cluster\\_kmeans.py:870: FutureWarning: The default value of `n_init` will change from 3 to 'auto' in 1.4. Set the value of `n_init` explicitly to suppress the warning\n",
      "  warnings.warn(\n",
      "C:\\Users\\Emeric\\PycharmProjects\\OWKIN_challenge\\venv\\lib\\site-packages\\sklearn\\cluster\\_kmeans.py:870: FutureWarning: The default value of `n_init` will change from 3 to 'auto' in 1.4. Set the value of `n_init` explicitly to suppress the warning\n",
      "  warnings.warn(\n",
      "C:\\Users\\Emeric\\PycharmProjects\\OWKIN_challenge\\venv\\lib\\site-packages\\sklearn\\cluster\\_kmeans.py:870: FutureWarning: The default value of `n_init` will change from 3 to 'auto' in 1.4. Set the value of `n_init` explicitly to suppress the warning\n",
      "  warnings.warn(\n",
      "C:\\Users\\Emeric\\PycharmProjects\\OWKIN_challenge\\venv\\lib\\site-packages\\sklearn\\cluster\\_kmeans.py:870: FutureWarning: The default value of `n_init` will change from 3 to 'auto' in 1.4. Set the value of `n_init` explicitly to suppress the warning\n",
      "  warnings.warn(\n",
      "C:\\Users\\Emeric\\PycharmProjects\\OWKIN_challenge\\venv\\lib\\site-packages\\sklearn\\cluster\\_kmeans.py:870: FutureWarning: The default value of `n_init` will change from 3 to 'auto' in 1.4. Set the value of `n_init` explicitly to suppress the warning\n",
      "  warnings.warn(\n",
      "C:\\Users\\Emeric\\PycharmProjects\\OWKIN_challenge\\venv\\lib\\site-packages\\sklearn\\cluster\\_kmeans.py:870: FutureWarning: The default value of `n_init` will change from 3 to 'auto' in 1.4. Set the value of `n_init` explicitly to suppress the warning\n",
      "  warnings.warn(\n",
      "C:\\Users\\Emeric\\PycharmProjects\\OWKIN_challenge\\venv\\lib\\site-packages\\sklearn\\cluster\\_kmeans.py:870: FutureWarning: The default value of `n_init` will change from 3 to 'auto' in 1.4. Set the value of `n_init` explicitly to suppress the warning\n",
      "  warnings.warn(\n",
      "C:\\Users\\Emeric\\PycharmProjects\\OWKIN_challenge\\venv\\lib\\site-packages\\sklearn\\cluster\\_kmeans.py:870: FutureWarning: The default value of `n_init` will change from 3 to 'auto' in 1.4. Set the value of `n_init` explicitly to suppress the warning\n",
      "  warnings.warn(\n",
      "C:\\Users\\Emeric\\PycharmProjects\\OWKIN_challenge\\venv\\lib\\site-packages\\sklearn\\cluster\\_kmeans.py:870: FutureWarning: The default value of `n_init` will change from 3 to 'auto' in 1.4. Set the value of `n_init` explicitly to suppress the warning\n",
      "  warnings.warn(\n",
      "C:\\Users\\Emeric\\PycharmProjects\\OWKIN_challenge\\venv\\lib\\site-packages\\sklearn\\cluster\\_kmeans.py:870: FutureWarning: The default value of `n_init` will change from 3 to 'auto' in 1.4. Set the value of `n_init` explicitly to suppress the warning\n",
      "  warnings.warn(\n",
      "C:\\Users\\Emeric\\PycharmProjects\\OWKIN_challenge\\venv\\lib\\site-packages\\sklearn\\cluster\\_kmeans.py:870: FutureWarning: The default value of `n_init` will change from 3 to 'auto' in 1.4. Set the value of `n_init` explicitly to suppress the warning\n",
      "  warnings.warn(\n",
      "C:\\Users\\Emeric\\PycharmProjects\\OWKIN_challenge\\venv\\lib\\site-packages\\sklearn\\cluster\\_kmeans.py:870: FutureWarning: The default value of `n_init` will change from 3 to 'auto' in 1.4. Set the value of `n_init` explicitly to suppress the warning\n",
      "  warnings.warn(\n",
      "C:\\Users\\Emeric\\PycharmProjects\\OWKIN_challenge\\venv\\lib\\site-packages\\sklearn\\cluster\\_kmeans.py:870: FutureWarning: The default value of `n_init` will change from 3 to 'auto' in 1.4. Set the value of `n_init` explicitly to suppress the warning\n",
      "  warnings.warn(\n",
      "C:\\Users\\Emeric\\PycharmProjects\\OWKIN_challenge\\venv\\lib\\site-packages\\sklearn\\cluster\\_kmeans.py:870: FutureWarning: The default value of `n_init` will change from 3 to 'auto' in 1.4. Set the value of `n_init` explicitly to suppress the warning\n",
      "  warnings.warn(\n",
      "C:\\Users\\Emeric\\PycharmProjects\\OWKIN_challenge\\venv\\lib\\site-packages\\sklearn\\cluster\\_kmeans.py:870: FutureWarning: The default value of `n_init` will change from 3 to 'auto' in 1.4. Set the value of `n_init` explicitly to suppress the warning\n",
      "  warnings.warn(\n",
      "C:\\Users\\Emeric\\PycharmProjects\\OWKIN_challenge\\venv\\lib\\site-packages\\sklearn\\cluster\\_kmeans.py:870: FutureWarning: The default value of `n_init` will change from 3 to 'auto' in 1.4. Set the value of `n_init` explicitly to suppress the warning\n",
      "  warnings.warn(\n",
      "C:\\Users\\Emeric\\PycharmProjects\\OWKIN_challenge\\venv\\lib\\site-packages\\sklearn\\cluster\\_kmeans.py:870: FutureWarning: The default value of `n_init` will change from 3 to 'auto' in 1.4. Set the value of `n_init` explicitly to suppress the warning\n",
      "  warnings.warn(\n"
     ]
    }
   ],
   "source": [
    "from sklearn.cluster import KMeans, MiniBatchKMeans\n",
    "\n",
    "n_clusters = np.arange(2,30)\n",
    "wss = np.zeros_like(n_clusters)\n",
    "for k, n_cluster in enumerate(n_clusters):\n",
    "\n",
    "    kmeans = MiniBatchKMeans(n_clusters=n_cluster, compute_labels=False)\n",
    "    kmeans.fit(X_train_cluster)\n",
    "    wss[k] = get_wss(X_train_cluster, kmeans.predict(X_train_cluster), kmeans.cluster_centers_)"
   ],
   "metadata": {
    "collapsed": false,
    "pycharm": {
     "name": "#%%\n"
    }
   }
  },
  {
   "cell_type": "code",
   "execution_count": 116,
   "outputs": [
    {
     "data": {
      "text/plain": "<Figure size 640x480 with 1 Axes>",
      "image/png": "[encoded data removed]"
     },
     "metadata": {},
     "output_type": "display_data"
    }
   ],
   "source": [
    "plt.figure()\n",
    "plt.plot(n_clusters, wss)\n",
    "plt.show()"
   ],
   "metadata": {
    "collapsed": false,
    "pycharm": {
     "name": "#%%\n"
    }
   }
  },
  {
   "cell_type": "code",
   "execution_count": 122,
   "outputs": [
    {
     "name": "stderr",
     "output_type": "stream",
     "text": [
      "C:\\Users\\Emeric\\PycharmProjects\\OWKIN_challenge\\venv\\lib\\site-packages\\sklearn\\cluster\\_kmeans.py:870: FutureWarning: The default value of `n_init` will change from 3 to 'auto' in 1.4. Set the value of `n_init` explicitly to suppress the warning\n",
      "  warnings.warn(\n"
     ]
    },
    {
     "data": {
      "text/plain": "MiniBatchKMeans()",
      "text/html": "<style>#sk-container-id-4 {color: black;background-color: white;}#sk-container-id-4 pre{padding: 0;}#sk-container-id-4 div.sk-toggleable {background-color: white;}#sk-container-id-4 label.sk-toggleable__label {cursor: pointer;display: block;width: 100%;margin-bottom: 0;padding: 0.3em;box-sizing: border-box;text-align: center;}#sk-container-id-4 label.sk-toggleable__label-arrow:before {content: \"▸\";float: left;margin-right: 0.25em;color: #696969;}#sk-container-id-4 label.sk-toggleable__label-arrow:hover:before {color: black;}#sk-container-id-4 div.sk-estimator:hover label.sk-toggleable__label-arrow:before {color: black;}#sk-container-id-4 div.sk-toggleable__content {max-height: 0;max-width: 0;overflow: hidden;text-align: left;background-color: #f0f8ff;}#sk-container-id-4 div.sk-toggleable__content pre {margin: 0.2em;color: black;border-radius: 0.25em;background-color: #f0f8ff;}#sk-container-id-4 input.sk-toggleable__control:checked~div.sk-toggleable__content {max-height: 200px;max-width: 100%;overflow: auto;}#sk-container-id-4 input.sk-toggleable__control:checked~label.sk-toggleable__label-arrow:before {content: \"▾\";}#sk-container-id-4 div.sk-estimator input.sk-toggleable__control:checked~label.sk-toggleable__label {background-color: #d4ebff;}#sk-container-id-4 div.sk-label input.sk-toggleable__control:checked~label.sk-toggleable__label {background-color: #d4ebff;}#sk-container-id-4 input.sk-hidden--visually {border: 0;clip: rect(1px 1px 1px 1px);clip: rect(1px, 1px, 1px, 1px);height: 1px;margin: -1px;overflow: hidden;padding: 0;position: absolute;width: 1px;}#sk-container-id-4 div.sk-estimator {font-family: monospace;background-color: #f0f8ff;border: 1px dotted black;border-radius: 0.25em;box-sizing: border-box;margin-bottom: 0.5em;}#sk-container-id-4 div.sk-estimator:hover {background-color: #d4ebff;}#sk-container-id-4 div.sk-parallel-item::after {content: \"\";width: 100%;border-bottom: 1px solid gray;flex-grow: 1;}#sk-container-id-4 div.sk-label:hover label.sk-toggleable__label {background-color: #d4ebff;}#sk-container-id-4 div.sk-serial::before {content: \"\";position: absolute;border-left: 1px solid gray;box-sizing: border-box;top: 0;bottom: 0;left: 50%;z-index: 0;}#sk-container-id-4 div.sk-serial {display: flex;flex-direction: column;align-items: center;background-color: white;padding-right: 0.2em;padding-left: 0.2em;position: relative;}#sk-container-id-4 div.sk-item {position: relative;z-index: 1;}#sk-container-id-4 div.sk-parallel {display: flex;align-items: stretch;justify-content: center;background-color: white;position: relative;}#sk-container-id-4 div.sk-item::before, #sk-container-id-4 div.sk-parallel-item::before {content: \"\";position: absolute;border-left: 1px solid gray;box-sizing: border-box;top: 0;bottom: 0;left: 50%;z-index: -1;}#sk-container-id-4 div.sk-parallel-item {display: flex;flex-direction: column;z-index: 1;position: relative;background-color: white;}#sk-container-id-4 div.sk-parallel-item:first-child::after {align-self: flex-end;width: 50%;}#sk-container-id-4 div.sk-parallel-item:last-child::after {align-self: flex-start;width: 50%;}#sk-container-id-4 div.sk-parallel-item:only-child::after {width: 0;}#sk-container-id-4 div.sk-dashed-wrapped {border: 1px dashed gray;margin: 0 0.4em 0.5em 0.4em;box-sizing: border-box;padding-bottom: 0.4em;background-color: white;}#sk-container-id-4 div.sk-label label {font-family: monospace;font-weight: bold;display: inline-block;line-height: 1.2em;}#sk-container-id-4 div.sk-label-container {text-align: center;}#sk-container-id-4 div.sk-container {/* jupyter's `normalize.less` sets `[hidden] { display: none; }` but bootstrap.min.css set `[hidden] { display: none !important; }` so we also need the `!important` here to be able to override the default hidden behavior on the sphinx rendered scikit-learn.org. See: https://github.com/scikit-learn/scikit-learn/issues/21755 */display: inline-block !important;position: relative;}#sk-container-id-4 div.sk-text-repr-fallback {display: none;}</style><div id=\"sk-container-id-4\" class=\"sk-top-container\"><div class=\"sk-text-repr-fallback\"><pre>MiniBatchKMeans()</pre><b>In a Jupyter environment, please rerun this cell to show the HTML representation or trust the notebook. <br />On GitHub, the HTML representation is unable to render, please try loading this page with nbviewer.org.</b></div><div class=\"sk-container\" hidden><div class=\"sk-item\"><div class=\"sk-estimator sk-toggleable\"><input class=\"sk-toggleable__control sk-hidden--visually\" id=\"sk-estimator-id-4\" type=\"checkbox\" checked><label for=\"sk-estimator-id-4\" class=\"sk-toggleable__label sk-toggleable__label-arrow\">MiniBatchKMeans</label><div class=\"sk-toggleable__content\"><pre>MiniBatchKMeans()</pre></div></div></div></div></div>"
     },
     "execution_count": 122,
     "metadata": {},
     "output_type": "execute_result"
    }
   ],
   "source": [
    "n_clusters=8\n",
    "kmeans = MiniBatchKMeans(n_clusters=n_clusters)\n",
    "kmeans.fit(X_train_cluster)"
   ],
   "metadata": {
    "collapsed": false,
    "pycharm": {
     "name": "#%%\n"
    }
   }
  },
  {
   "cell_type": "code",
   "execution_count": 138,
   "outputs": [
    {
     "name": "stderr",
     "output_type": "stream",
     "text": [
      "100%|██████████| 22/22 [00:02<00:00,  8.82it/s]\n",
      "100%|██████████| 46/46 [00:06<00:00,  6.58it/s]\n"
     ]
    }
   ],
   "source": [
    "X_val_clusters_pos = X_val_all[y_val.astype(bool)].reshape(-1, 2048)\n",
    "X_val_clusters_neg = X_val_all[~y_val.astype(bool)].reshape(-1, 2048)\n",
    "\n",
    "dist_pos = np.zeros((X_val_clusters_pos.shape[0], n_clusters))\n",
    "dist_neg = np.zeros((X_val_clusters_neg.shape[0], n_clusters))\n",
    "\n",
    "# Avoid memory overflow\n",
    "size = 1000\n",
    "n_split = X_val_clusters_pos.shape[0] // size\n",
    "for k in tqdm(range(n_split)):\n",
    "    batch = X_val_clusters_pos[k*size: (k+1)*size]\n",
    "    dist_pos[k * size: (k+1)*size] = np.linalg.norm(batch[:, None] - kmeans.cluster_centers_[None, ...], ord=2, axis=-1)\n",
    "\n",
    "n_split = X_val_clusters_neg.shape[0] // size\n",
    "for k in tqdm(range(n_split)):\n",
    "    batch = X_val_clusters_neg[k*size: (k+1)*size]\n",
    "    dist_neg[k * size: (k+1)*size] = np.linalg.norm(batch[:, None] - kmeans.cluster_centers_[None, ...], ord=2, axis=-1)"
   ],
   "metadata": {
    "collapsed": false,
    "pycharm": {
     "name": "#%%\n"
    }
   }
  },
  {
   "cell_type": "code",
   "execution_count": 140,
   "outputs": [
    {
     "data": {
      "text/plain": "<Figure size 640x480 with 1 Axes>",
      "image/png": "[encoded data removed]"
     },
     "metadata": {},
     "output_type": "display_data"
    }
   ],
   "source": [
    "plt.hist(dist_neg.min(axis=-1), density=True, alpha=0.5, bins=int(dist_neg.shape[0] ** (1/3)), label='neg')\n",
    "plt.hist(dist_pos.min(axis=-1), density=True, alpha=0.5, bins=int(dist_pos.shape[0] ** (1/3)), label='pos')\n",
    "plt.legend(loc='best')\n",
    "plt.show()"
   ],
   "metadata": {
    "collapsed": false,
    "pycharm": {
     "name": "#%%\n"
    }
   }
  },
  {
   "cell_type": "code",
   "execution_count": 141,
   "outputs": [],
   "source": [
    "dist_pos = dist_pos.min(axis=-1).reshape(-1, 1000)\n",
    "dist_neg = dist_neg.min(axis=-1).reshape(-1, 1000)\n",
    "\n",
    "extremum_neg = [dist_neg.min(axis=-1), dist_neg.max(axis=-1)]\n",
    "extremum_pos = [dist_pos.min(axis=-1), dist_pos.max(axis=-1)]"
   ],
   "metadata": {
    "collapsed": false,
    "pycharm": {
     "name": "#%%\n"
    }
   }
  },
  {
   "cell_type": "code",
   "execution_count": 146,
   "outputs": [
    {
     "data": {
      "text/plain": "<Figure size 640x480 with 1 Axes>",
      "image/png": "[encoded data removed]"
     },
     "metadata": {},
     "output_type": "display_data"
    }
   ],
   "source": [
    "plt.hist(extremum_neg[0], density=True, alpha=0.5, label='min_neg', bins=2 * int(extremum_neg[0].shape[0] ** (1/3)))\n",
    "plt.hist(extremum_pos[0], density=True, alpha=0.5, label='min_pos', bins=2 * int(extremum_pos[0].shape[0] ** (1/3)))\n",
    "plt.legend(loc='best')\n",
    "plt.show()"
   ],
   "metadata": {
    "collapsed": false,
    "pycharm": {
     "name": "#%%\n"
    }
   }
  },
  {
   "cell_type": "code",
   "execution_count": 145,
   "outputs": [
    {
     "data": {
      "text/plain": "<Figure size 640x480 with 1 Axes>",
      "image/png": "[encoded data removed]"
     },
     "metadata": {},
     "output_type": "display_data"
    }
   ],
   "source": [
    "plt.hist(extremum_neg[1], density=True, alpha=0.5, label='min_neg', bins=2 * int(extremum_neg[1].shape[0] ** (1/3)))\n",
    "plt.hist(extremum_pos[1], density=True, alpha=0.5, label='min_pos', bins=2 * int(extremum_pos[1].shape[0] ** (1/3)))\n",
    "plt.legend(loc='best')\n",
    "plt.show()"
   ],
   "metadata": {
    "collapsed": false,
    "pycharm": {
     "name": "#%%\n"
    }
   }
  },
  {
   "cell_type": "markdown",
   "source": [
    "### Agglomerative clustering"
   ],
   "metadata": {
    "collapsed": false,
    "pycharm": {
     "name": "#%% md\n"
    }
   }
  },
  {
   "cell_type": "code",
   "execution_count": 144,
   "outputs": [
    {
     "ename": "MemoryError",
     "evalue": "Unable to allocate 2.59 GiB for an array with shape (170000, 2048) and data type float64",
     "output_type": "error",
     "traceback": [
      "\u001B[1;31m---------------------------------------------------------------------------\u001B[0m",
      "\u001B[1;31mMemoryError\u001B[0m                               Traceback (most recent call last)",
      "Cell \u001B[1;32mIn[144], line 4\u001B[0m\n\u001B[0;32m      1\u001B[0m \u001B[38;5;28;01mfrom\u001B[39;00m \u001B[38;5;21;01msklearn\u001B[39;00m\u001B[38;5;21;01m.\u001B[39;00m\u001B[38;5;21;01mcluster\u001B[39;00m \u001B[38;5;28;01mimport\u001B[39;00m AgglomerativeClustering\n\u001B[0;32m      3\u001B[0m agg \u001B[38;5;241m=\u001B[39m AgglomerativeClustering(n_clusters\u001B[38;5;241m=\u001B[39m\u001B[38;5;241m8\u001B[39m)\n\u001B[1;32m----> 4\u001B[0m \u001B[43magg\u001B[49m\u001B[38;5;241;43m.\u001B[39;49m\u001B[43mfit\u001B[49m\u001B[43m(\u001B[49m\u001B[43mX_train_cluster\u001B[49m\u001B[43m)\u001B[49m\n",
      "File \u001B[1;32m~\\PycharmProjects\\OWKIN_challenge\\venv\\lib\\site-packages\\sklearn\\cluster\\_agglomerative.py:956\u001B[0m, in \u001B[0;36mAgglomerativeClustering.fit\u001B[1;34m(self, X, y)\u001B[0m\n\u001B[0;32m    954\u001B[0m \u001B[38;5;28mself\u001B[39m\u001B[38;5;241m.\u001B[39m_validate_params()\n\u001B[0;32m    955\u001B[0m X \u001B[38;5;241m=\u001B[39m \u001B[38;5;28mself\u001B[39m\u001B[38;5;241m.\u001B[39m_validate_data(X, ensure_min_samples\u001B[38;5;241m=\u001B[39m\u001B[38;5;241m2\u001B[39m)\n\u001B[1;32m--> 956\u001B[0m \u001B[38;5;28;01mreturn\u001B[39;00m \u001B[38;5;28;43mself\u001B[39;49m\u001B[38;5;241;43m.\u001B[39;49m\u001B[43m_fit\u001B[49m\u001B[43m(\u001B[49m\u001B[43mX\u001B[49m\u001B[43m)\u001B[49m\n",
      "File \u001B[1;32m~\\PycharmProjects\\OWKIN_challenge\\venv\\lib\\site-packages\\sklearn\\cluster\\_agglomerative.py:1046\u001B[0m, in \u001B[0;36mAgglomerativeClustering._fit\u001B[1;34m(self, X)\u001B[0m\n\u001B[0;32m   1042\u001B[0m distance_threshold \u001B[38;5;241m=\u001B[39m \u001B[38;5;28mself\u001B[39m\u001B[38;5;241m.\u001B[39mdistance_threshold\n\u001B[0;32m   1044\u001B[0m return_distance \u001B[38;5;241m=\u001B[39m (distance_threshold \u001B[38;5;129;01mis\u001B[39;00m \u001B[38;5;129;01mnot\u001B[39;00m \u001B[38;5;28;01mNone\u001B[39;00m) \u001B[38;5;129;01mor\u001B[39;00m \u001B[38;5;28mself\u001B[39m\u001B[38;5;241m.\u001B[39mcompute_distances\n\u001B[1;32m-> 1046\u001B[0m out \u001B[38;5;241m=\u001B[39m memory\u001B[38;5;241m.\u001B[39mcache(tree_builder)(\n\u001B[0;32m   1047\u001B[0m     X,\n\u001B[0;32m   1048\u001B[0m     connectivity\u001B[38;5;241m=\u001B[39mconnectivity,\n\u001B[0;32m   1049\u001B[0m     n_clusters\u001B[38;5;241m=\u001B[39mn_clusters,\n\u001B[0;32m   1050\u001B[0m     return_distance\u001B[38;5;241m=\u001B[39mreturn_distance,\n\u001B[0;32m   1051\u001B[0m     \u001B[38;5;241m*\u001B[39m\u001B[38;5;241m*\u001B[39mkwargs,\n\u001B[0;32m   1052\u001B[0m )\n\u001B[0;32m   1053\u001B[0m (\u001B[38;5;28mself\u001B[39m\u001B[38;5;241m.\u001B[39mchildren_, \u001B[38;5;28mself\u001B[39m\u001B[38;5;241m.\u001B[39mn_connected_components_, \u001B[38;5;28mself\u001B[39m\u001B[38;5;241m.\u001B[39mn_leaves_, parents) \u001B[38;5;241m=\u001B[39m out[\n\u001B[0;32m   1054\u001B[0m     :\u001B[38;5;241m4\u001B[39m\n\u001B[0;32m   1055\u001B[0m ]\n\u001B[0;32m   1057\u001B[0m \u001B[38;5;28;01mif\u001B[39;00m return_distance:\n",
      "File \u001B[1;32m~\\PycharmProjects\\OWKIN_challenge\\venv\\lib\\site-packages\\joblib\\memory.py:349\u001B[0m, in \u001B[0;36mNotMemorizedFunc.__call__\u001B[1;34m(self, *args, **kwargs)\u001B[0m\n\u001B[0;32m    348\u001B[0m \u001B[38;5;28;01mdef\u001B[39;00m \u001B[38;5;21m__call__\u001B[39m(\u001B[38;5;28mself\u001B[39m, \u001B[38;5;241m*\u001B[39margs, \u001B[38;5;241m*\u001B[39m\u001B[38;5;241m*\u001B[39mkwargs):\n\u001B[1;32m--> 349\u001B[0m     \u001B[38;5;28;01mreturn\u001B[39;00m \u001B[38;5;28mself\u001B[39m\u001B[38;5;241m.\u001B[39mfunc(\u001B[38;5;241m*\u001B[39margs, \u001B[38;5;241m*\u001B[39m\u001B[38;5;241m*\u001B[39mkwargs)\n",
      "File \u001B[1;32m~\\PycharmProjects\\OWKIN_challenge\\venv\\lib\\site-packages\\sklearn\\cluster\\_agglomerative.py:273\u001B[0m, in \u001B[0;36mward_tree\u001B[1;34m(X, connectivity, n_clusters, return_distance)\u001B[0m\n\u001B[0;32m    263\u001B[0m     warnings\u001B[38;5;241m.\u001B[39mwarn(\n\u001B[0;32m    264\u001B[0m         \u001B[38;5;124m\"\u001B[39m\u001B[38;5;124mPartial build of the tree is implemented \u001B[39m\u001B[38;5;124m\"\u001B[39m\n\u001B[0;32m    265\u001B[0m         \u001B[38;5;124m\"\u001B[39m\u001B[38;5;124monly for structured clustering (i.e. with \u001B[39m\u001B[38;5;124m\"\u001B[39m\n\u001B[1;32m   (...)\u001B[0m\n\u001B[0;32m    270\u001B[0m         stacklevel\u001B[38;5;241m=\u001B[39m\u001B[38;5;241m2\u001B[39m,\n\u001B[0;32m    271\u001B[0m     )\n\u001B[0;32m    272\u001B[0m X \u001B[38;5;241m=\u001B[39m np\u001B[38;5;241m.\u001B[39mrequire(X, requirements\u001B[38;5;241m=\u001B[39m\u001B[38;5;124m\"\u001B[39m\u001B[38;5;124mW\u001B[39m\u001B[38;5;124m\"\u001B[39m)\n\u001B[1;32m--> 273\u001B[0m out \u001B[38;5;241m=\u001B[39m \u001B[43mhierarchy\u001B[49m\u001B[38;5;241;43m.\u001B[39;49m\u001B[43mward\u001B[49m\u001B[43m(\u001B[49m\u001B[43mX\u001B[49m\u001B[43m)\u001B[49m\n\u001B[0;32m    274\u001B[0m children_ \u001B[38;5;241m=\u001B[39m out[:, :\u001B[38;5;241m2\u001B[39m]\u001B[38;5;241m.\u001B[39mastype(np\u001B[38;5;241m.\u001B[39mintp)\n\u001B[0;32m    276\u001B[0m \u001B[38;5;28;01mif\u001B[39;00m return_distance:\n",
      "File \u001B[1;32m~\\PycharmProjects\\OWKIN_challenge\\venv\\lib\\site-packages\\scipy\\cluster\\hierarchy.py:834\u001B[0m, in \u001B[0;36mward\u001B[1;34m(y)\u001B[0m\n\u001B[0;32m    738\u001B[0m \u001B[38;5;28;01mdef\u001B[39;00m \u001B[38;5;21mward\u001B[39m(y):\n\u001B[0;32m    739\u001B[0m \u001B[38;5;250m    \u001B[39m\u001B[38;5;124;03m\"\"\"\u001B[39;00m\n\u001B[0;32m    740\u001B[0m \u001B[38;5;124;03m    Perform Ward's linkage on a condensed distance matrix.\u001B[39;00m\n\u001B[0;32m    741\u001B[0m \n\u001B[1;32m   (...)\u001B[0m\n\u001B[0;32m    832\u001B[0m \n\u001B[0;32m    833\u001B[0m \u001B[38;5;124;03m    \"\"\"\u001B[39;00m\n\u001B[1;32m--> 834\u001B[0m     \u001B[38;5;28;01mreturn\u001B[39;00m \u001B[43mlinkage\u001B[49m\u001B[43m(\u001B[49m\u001B[43my\u001B[49m\u001B[43m,\u001B[49m\u001B[43m \u001B[49m\u001B[43mmethod\u001B[49m\u001B[38;5;241;43m=\u001B[39;49m\u001B[38;5;124;43m'\u001B[39;49m\u001B[38;5;124;43mward\u001B[39;49m\u001B[38;5;124;43m'\u001B[39;49m\u001B[43m,\u001B[49m\u001B[43m \u001B[49m\u001B[43mmetric\u001B[49m\u001B[38;5;241;43m=\u001B[39;49m\u001B[38;5;124;43m'\u001B[39;49m\u001B[38;5;124;43meuclidean\u001B[39;49m\u001B[38;5;124;43m'\u001B[39;49m\u001B[43m)\u001B[49m\n",
      "File \u001B[1;32m~\\PycharmProjects\\OWKIN_challenge\\venv\\lib\\site-packages\\scipy\\cluster\\hierarchy.py:1046\u001B[0m, in \u001B[0;36mlinkage\u001B[1;34m(y, method, metric, optimal_ordering)\u001B[0m\n\u001B[0;32m   1043\u001B[0m \u001B[38;5;28;01mif\u001B[39;00m method \u001B[38;5;129;01mnot\u001B[39;00m \u001B[38;5;129;01min\u001B[39;00m _LINKAGE_METHODS:\n\u001B[0;32m   1044\u001B[0m     \u001B[38;5;28;01mraise\u001B[39;00m \u001B[38;5;167;01mValueError\u001B[39;00m(\u001B[38;5;124m\"\u001B[39m\u001B[38;5;124mInvalid method: \u001B[39m\u001B[38;5;132;01m{0}\u001B[39;00m\u001B[38;5;124m\"\u001B[39m\u001B[38;5;241m.\u001B[39mformat(method))\n\u001B[1;32m-> 1046\u001B[0m y \u001B[38;5;241m=\u001B[39m \u001B[43m_convert_to_double\u001B[49m\u001B[43m(\u001B[49m\u001B[43mnp\u001B[49m\u001B[38;5;241;43m.\u001B[39;49m\u001B[43masarray\u001B[49m\u001B[43m(\u001B[49m\u001B[43my\u001B[49m\u001B[43m,\u001B[49m\u001B[43m \u001B[49m\u001B[43morder\u001B[49m\u001B[38;5;241;43m=\u001B[39;49m\u001B[38;5;124;43m'\u001B[39;49m\u001B[38;5;124;43mc\u001B[39;49m\u001B[38;5;124;43m'\u001B[39;49m\u001B[43m)\u001B[49m\u001B[43m)\u001B[49m\n\u001B[0;32m   1048\u001B[0m \u001B[38;5;28;01mif\u001B[39;00m y\u001B[38;5;241m.\u001B[39mndim \u001B[38;5;241m==\u001B[39m \u001B[38;5;241m1\u001B[39m:\n\u001B[0;32m   1049\u001B[0m     distance\u001B[38;5;241m.\u001B[39mis_valid_y(y, throw\u001B[38;5;241m=\u001B[39m\u001B[38;5;28;01mTrue\u001B[39;00m, name\u001B[38;5;241m=\u001B[39m\u001B[38;5;124m'\u001B[39m\u001B[38;5;124my\u001B[39m\u001B[38;5;124m'\u001B[39m)\n",
      "File \u001B[1;32m~\\PycharmProjects\\OWKIN_challenge\\venv\\lib\\site-packages\\scipy\\cluster\\hierarchy.py:1574\u001B[0m, in \u001B[0;36m_convert_to_double\u001B[1;34m(X)\u001B[0m\n\u001B[0;32m   1572\u001B[0m \u001B[38;5;28;01mdef\u001B[39;00m \u001B[38;5;21m_convert_to_double\u001B[39m(X):\n\u001B[0;32m   1573\u001B[0m     \u001B[38;5;28;01mif\u001B[39;00m X\u001B[38;5;241m.\u001B[39mdtype \u001B[38;5;241m!=\u001B[39m np\u001B[38;5;241m.\u001B[39mdouble:\n\u001B[1;32m-> 1574\u001B[0m         X \u001B[38;5;241m=\u001B[39m \u001B[43mX\u001B[49m\u001B[38;5;241;43m.\u001B[39;49m\u001B[43mastype\u001B[49m\u001B[43m(\u001B[49m\u001B[43mnp\u001B[49m\u001B[38;5;241;43m.\u001B[39;49m\u001B[43mdouble\u001B[49m\u001B[43m)\u001B[49m\n\u001B[0;32m   1575\u001B[0m     \u001B[38;5;28;01mif\u001B[39;00m \u001B[38;5;129;01mnot\u001B[39;00m X\u001B[38;5;241m.\u001B[39mflags\u001B[38;5;241m.\u001B[39mcontiguous:\n\u001B[0;32m   1576\u001B[0m         X \u001B[38;5;241m=\u001B[39m X\u001B[38;5;241m.\u001B[39mcopy()\n",
      "\u001B[1;31mMemoryError\u001B[0m: Unable to allocate 2.59 GiB for an array with shape (170000, 2048) and data type float64"
     ]
    }
   ],
   "source": [
    "from sklearn.cluster import AgglomerativeClustering\n",
    "\n",
    "agg = AgglomerativeClustering(n_clusters=8)\n",
    "agg.fit(X_train_cluster)"
   ],
   "metadata": {
    "collapsed": false,
    "pycharm": {
     "name": "#%%\n"
    }
   }
  },
  {
   "cell_type": "code",
   "execution_count": null,
   "outputs": [],
   "source": [],
   "metadata": {
    "collapsed": false,
    "pycharm": {
     "name": "#%%\n"
    }
   }
  }
 ],
 "metadata": {
  "kernelspec": {
   "display_name": "Python 3",
   "language": "python",
   "name": "python3"
  },
  "language_info": {
   "codemirror_mode": {
    "name": "ipython",
    "version": 2
   },
   "file_extension": ".py",
   "mimetype": "text/x-python",
   "name": "python",
   "nbconvert_exporter": "python",
   "pygments_lexer": "ipython2",
   "version": "2.7.6"
  }
 },
 "nbformat": 4,
 "nbformat_minor": 0
}