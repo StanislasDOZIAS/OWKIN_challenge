{
 "cells": [
  {
   "attachments": {},
   "cell_type": "markdown",
   "metadata": {},
   "source": [
    "## Imports"
   ]
  },
  {
   "cell_type": "code",
   "execution_count": 1,
   "metadata": {},
   "outputs": [],
   "source": [
    "%load_ext autoreload\n",
    "%autoreload 2"
   ]
  },
  {
   "cell_type": "code",
   "execution_count": 3,
   "metadata": {},
   "outputs": [],
   "source": [
    "from pathlib import Path\n",
    "import glob\n",
    "import os\n",
    "import sys\n",
    "\n",
    "module_path = os.path.abspath(os.path.join('..'))\n",
    "if module_path not in sys.path:\n",
    "    sys.path.append(module_path)\n",
    "\n",
    "import matplotlib.pyplot as plt\n",
    "import seaborn as sns\n",
    "from tqdm import tqdm\n",
    "\n",
    "import copy\n",
    "import pandas as pd\n",
    "import numpy as np\n",
    "import torch\n",
    "from torch import nn\n",
    "\n",
    "from sklearn.metrics import roc_auc_score\n",
    "\n",
    "os.environ[\"WANDB_SILENT\"] = \"true\"\n",
    "\n",
    "from owkin.training import train, RocLoss\n",
    "from owkin.dataset import build_dataset\n",
    "from owkin.models.mono_models import MLP, SVM\n",
    "from owkin.models.aggregators import SmoothMaxAggregator, MaxAggregator"
   ]
  },
  {
   "attachments": {},
   "cell_type": "markdown",
   "metadata": {},
   "source": [
    "## MLP MODELS"
   ]
  },
  {
   "attachments": {},
   "cell_type": "markdown",
   "metadata": {},
   "source": [
    "### Study params"
   ]
  },
  {
   "attachments": {},
   "cell_type": "markdown",
   "metadata": {},
   "source": [
    "#### Num layer = 2"
   ]
  },
  {
   "cell_type": "code",
   "execution_count": 120,
   "metadata": {},
   "outputs": [],
   "source": [
    "num_layers = 2\n",
    "inside_dim = 512\n",
    "\n",
    "mono_model = MLP(num_layers=num_layers, inside_dim=inside_dim)\n",
    "\n",
    "mono_batch_size = 64\n",
    "\n",
    "normalizer_type = \"expo_lambda\"\n",
    "\n",
    "list_val_center = [\"C_1\", \"C_2\", \"C_5\"]\n",
    "list_mono_lr = [3e-6, 1e-5, 3e-5, 1e-4]\n",
    "list_criterion = [nn.BCELoss(), RocLoss()]\n",
    "list_wd = [0, 1e-3, 3e-3, 1e-2, 3e-2]\n",
    "\n",
    "all_val_scores = []\n",
    "all_paths = []\n",
    "all_params = []\n",
    "for mono_lr in list_mono_lr:\n",
    "    for criterion in list_criterion:\n",
    "        val_score = 0\n",
    "        paths = []\n",
    "        params = f\"{mono_model.name}/{criterion._get_name()}/nt_{normalizer_type}/wd_{'{:.0e}'.format(wd)}/lr_{'{:.0e}'.format(mono_lr)}\"\n",
    "        for val_center in list_val_center:\n",
    "            run_name = f\"{mono_model.name}/{criterion._get_name()}/nt_{normalizer_type}/vc_{val_center}/bs_{mono_batch_size}/wd_{'{:.0e}'.format(wd)}/lr_{'{:.0e}'.format(mono_lr)}\"\n",
    "            PATH_DIR = f\"../saved_models/{run_name}\"\n",
    "\n",
    "            for i, model_path in enumerate(Path(PATH_DIR).glob(\"*\")):\n",
    "                val_score += float(model_path.name[-8:-3])\n",
    "            paths.append(f\"{PATH_DIR}/{model_path.name}\")\n",
    "\n",
    "        val_score /= len(list_val_center)\n",
    "\n",
    "        all_val_scores.append(val_score)\n",
    "        all_paths.append(paths)\n",
    "        all_params.append(params)"
   ]
  },
  {
   "cell_type": "code",
   "execution_count": 121,
   "metadata": {},
   "outputs": [],
   "source": [
    "all_paths = [x for _, x in sorted(zip(all_val_scores, all_paths))]\n",
    "all_params = [x for _, x in sorted(zip(all_val_scores, all_params))]\n",
    "all_val_scores.sort()\n",
    "\n",
    "all_paths.reverse()\n",
    "all_val_scores.reverse()\n",
    "all_params.reverse()"
   ]
  },
  {
   "cell_type": "code",
   "execution_count": 122,
   "metadata": {},
   "outputs": [
    {
     "data": {
      "text/plain": [
       "['MLP/nl_2_id_512/BCELoss/nt_expo_lambda/wd_0e+00/lr_3e-06',\n",
       " 'MLP/nl_2_id_512/RocLoss/nt_expo_lambda/wd_0e+00/lr_1e-05',\n",
       " 'MLP/nl_2_id_512/BCELoss/nt_expo_lambda/wd_0e+00/lr_1e-04',\n",
       " 'MLP/nl_2_id_512/RocLoss/nt_expo_lambda/wd_0e+00/lr_1e-04',\n",
       " 'MLP/nl_2_id_512/BCELoss/nt_expo_lambda/wd_0e+00/lr_3e-05']"
      ]
     },
     "execution_count": 122,
     "metadata": {},
     "output_type": "execute_result"
    }
   ],
   "source": [
    "all_params[:5]"
   ]
  },
  {
   "cell_type": "code",
   "execution_count": 123,
   "metadata": {},
   "outputs": [
    {
     "name": "stdout",
     "output_type": "stream",
     "text": [
      "val_score:0.6887, MLP/nl_2_id_512/BCELoss/nt_expo_lambda/wd_0e+00/lr_3e-06\n",
      "val_score:0.6870, MLP/nl_2_id_512/RocLoss/nt_expo_lambda/wd_0e+00/lr_1e-05\n",
      "val_score:0.6870, MLP/nl_2_id_512/BCELoss/nt_expo_lambda/wd_0e+00/lr_1e-04\n",
      "val_score:0.6860, MLP/nl_2_id_512/RocLoss/nt_expo_lambda/wd_0e+00/lr_1e-04\n",
      "val_score:0.6840, MLP/nl_2_id_512/BCELoss/nt_expo_lambda/wd_0e+00/lr_3e-05\n"
     ]
    }
   ],
   "source": [
    "for val_score, params in zip(all_val_scores, all_params[:5]):\n",
    "    print(f\"val_score:{'{:.4f}'.format(val_score)}, {params}\")"
   ]
  },
  {
   "cell_type": "code",
   "execution_count": 124,
   "metadata": {},
   "outputs": [
    {
     "data": {
      "text/plain": [
       "[['../saved_models/MLP/nl_2_id_512/BCELoss/nt_expo_lambda/vc_C_1/bs_64/wd_0e+00/lr_3e-06/best_epoch_1560_score_0.653.pt',\n",
       "  '../saved_models/MLP/nl_2_id_512/BCELoss/nt_expo_lambda/vc_C_2/bs_64/wd_0e+00/lr_3e-06/best_epoch_197_score_0.688.pt',\n",
       "  '../saved_models/MLP/nl_2_id_512/BCELoss/nt_expo_lambda/vc_C_5/bs_64/wd_0e+00/lr_3e-06/best_epoch_334_score_0.725.pt'],\n",
       " ['../saved_models/MLP/nl_2_id_512/RocLoss/nt_expo_lambda/vc_C_1/bs_64/wd_0e+00/lr_1e-05/best_epoch_10_score_0.658.pt',\n",
       "  '../saved_models/MLP/nl_2_id_512/RocLoss/nt_expo_lambda/vc_C_2/bs_64/wd_0e+00/lr_1e-05/best_epoch_94_score_0.683.pt',\n",
       "  '../saved_models/MLP/nl_2_id_512/RocLoss/nt_expo_lambda/vc_C_5/bs_64/wd_0e+00/lr_1e-05/best_epoch_112_score_0.720.pt'],\n",
       " ['../saved_models/MLP/nl_2_id_512/BCELoss/nt_expo_lambda/vc_C_1/bs_64/wd_0e+00/lr_1e-04/best_epoch_19_score_0.654.pt',\n",
       "  '../saved_models/MLP/nl_2_id_512/BCELoss/nt_expo_lambda/vc_C_2/bs_64/wd_0e+00/lr_1e-04/best_epoch_5_score_0.681.pt',\n",
       "  '../saved_models/MLP/nl_2_id_512/BCELoss/nt_expo_lambda/vc_C_5/bs_64/wd_0e+00/lr_1e-04/best_epoch_3_score_0.726.pt'],\n",
       " ['../saved_models/MLP/nl_2_id_512/RocLoss/nt_expo_lambda/vc_C_1/bs_64/wd_0e+00/lr_1e-04/best_epoch_236_score_0.654.pt',\n",
       "  '../saved_models/MLP/nl_2_id_512/RocLoss/nt_expo_lambda/vc_C_2/bs_64/wd_0e+00/lr_1e-04/best_epoch_11_score_0.681.pt',\n",
       "  '../saved_models/MLP/nl_2_id_512/RocLoss/nt_expo_lambda/vc_C_5/bs_64/wd_0e+00/lr_1e-04/best_epoch_16_score_0.723.pt'],\n",
       " ['../saved_models/MLP/nl_2_id_512/BCELoss/nt_expo_lambda/vc_C_1/bs_64/wd_0e+00/lr_3e-05/best_epoch_96_score_0.654.pt',\n",
       "  '../saved_models/MLP/nl_2_id_512/BCELoss/nt_expo_lambda/vc_C_2/bs_64/wd_0e+00/lr_3e-05/best_epoch_14_score_0.682.pt',\n",
       "  '../saved_models/MLP/nl_2_id_512/BCELoss/nt_expo_lambda/vc_C_5/bs_64/wd_0e+00/lr_3e-05/best_epoch_27_score_0.716.pt']]"
      ]
     },
     "execution_count": 124,
     "metadata": {},
     "output_type": "execute_result"
    }
   ],
   "source": [
    "all_paths[:5]"
   ]
  },
  {
   "attachments": {},
   "cell_type": "markdown",
   "metadata": {},
   "source": [
    "#### Num layers = 5"
   ]
  },
  {
   "cell_type": "code",
   "execution_count": null,
   "metadata": {},
   "outputs": [],
   "source": [
    "num_layers = 5\n",
    "inside_dim = 512\n",
    "\n",
    "mono_model = MLP(num_layers=num_layers, inside_dim=inside_dim)\n",
    "\n",
    "mono_batch_size = 64\n",
    "\n",
    "normalizer_type = \"expo_lambda\"\n",
    "mono_lr = 3e-6\n",
    "\n",
    "list_val_center = [\"C_1\", \"C_2\", \"C_5\"]\n",
    "list_criterion = [nn.BCELoss(), RocLoss()]\n",
    "list_wd = [0, 1e-3, 3e-3, 1e-2]\n",
    "\n",
    "\n",
    "all_val_scores = []\n",
    "all_paths = []\n",
    "all_params = []\n",
    "for wd in list_wd:\n",
    "    for criterion in list_criterion:\n",
    "        val_score = 0\n",
    "        paths = []\n",
    "        params = f\"{mono_model.name}/{criterion._get_name()}/nt_{normalizer_type}/wd_{'{:.0e}'.format(wd)}/lr_{'{:.0e}'.format(mono_lr)}\"\n",
    "        for val_center in list_val_center:\n",
    "            run_name = f\"{mono_model.name}/{criterion._get_name()}/nt_{normalizer_type}/vc_{val_center}/bs_{mono_batch_size}/wd_{'{:.0e}'.format(wd)}/lr_{'{:.0e}'.format(mono_lr)}\"\n",
    "            PATH_DIR = f\"../saved_models/{run_name}\"\n",
    "\n",
    "            for i, model_path in enumerate(Path(PATH_DIR).glob(\"*\")):\n",
    "                val_score += float(model_path.name[-8:-3])\n",
    "            paths.append(f\"{PATH_DIR}/{model_path.name}\")\n",
    "\n",
    "        val_score /= len(list_val_center)\n",
    "\n",
    "        all_val_scores.append(val_score)\n",
    "        all_paths.append(paths)\n",
    "        all_params.append(params)"
   ]
  },
  {
   "cell_type": "code",
   "execution_count": null,
   "metadata": {},
   "outputs": [],
   "source": [
    "all_paths = [x for _, x in sorted(zip(all_val_scores, all_paths))]\n",
    "all_params = [x for _, x in sorted(zip(all_val_scores, all_params))]\n",
    "all_val_scores.sort()\n",
    "\n",
    "all_paths.reverse()\n",
    "all_val_scores.reverse()\n",
    "all_params.reverse()"
   ]
  },
  {
   "cell_type": "code",
   "execution_count": null,
   "metadata": {},
   "outputs": [
    {
     "data": {
      "text/plain": [
       "['MLP/nl_5_id_512/BCELoss/nt_expo_lambda/wd_3e-03/lr_3e-06',\n",
       " 'MLP/nl_5_id_512/RocLoss/nt_expo_lambda/wd_0e+00/lr_3e-06',\n",
       " 'MLP/nl_5_id_512/BCELoss/nt_expo_lambda/wd_1e-03/lr_3e-06',\n",
       " 'MLP/nl_5_id_512/BCELoss/nt_expo_lambda/wd_1e-02/lr_3e-06',\n",
       " 'MLP/nl_5_id_512/RocLoss/nt_expo_lambda/wd_3e-03/lr_3e-06']"
      ]
     },
     "metadata": {},
     "output_type": "display_data"
    }
   ],
   "source": [
    "all_params[:5]"
   ]
  },
  {
   "cell_type": "code",
   "execution_count": null,
   "metadata": {},
   "outputs": [
    {
     "name": "stdout",
     "output_type": "stream",
     "text": [
      "val_score:0.6933, MLP/nl_5_id_512/BCELoss/nt_expo_lambda/wd_3e-03/lr_3e-06\n",
      "val_score:0.6910, MLP/nl_5_id_512/RocLoss/nt_expo_lambda/wd_0e+00/lr_3e-06\n",
      "val_score:0.6870, MLP/nl_5_id_512/BCELoss/nt_expo_lambda/wd_1e-03/lr_3e-06\n",
      "val_score:0.6860, MLP/nl_5_id_512/BCELoss/nt_expo_lambda/wd_1e-02/lr_3e-06\n",
      "val_score:0.6850, MLP/nl_5_id_512/RocLoss/nt_expo_lambda/wd_3e-03/lr_3e-06\n"
     ]
    }
   ],
   "source": [
    "for val_score, params in zip(all_val_scores, all_params[:5]):\n",
    "    print(f\"val_score:{'{:.4f}'.format(val_score)}, {params}\")"
   ]
  },
  {
   "cell_type": "code",
   "execution_count": null,
   "metadata": {},
   "outputs": [
    {
     "data": {
      "text/plain": [
       "[['../saved_models/MLP/nl_5_id_512/BCELoss/nt_expo_lambda/vc_C_1/bs_64/wd_3e-03/lr_3e-06/best_epoch_638_score_0.655.pt',\n",
       "  '../saved_models/MLP/nl_5_id_512/BCELoss/nt_expo_lambda/vc_C_2/bs_64/wd_3e-03/lr_3e-06/best_epoch_322_score_0.693.pt',\n",
       "  '../saved_models/MLP/nl_5_id_512/BCELoss/nt_expo_lambda/vc_C_5/bs_64/wd_3e-03/lr_3e-06/best_epoch_275_score_0.732.pt'],\n",
       " ['../saved_models/MLP/nl_5_id_512/RocLoss/nt_expo_lambda/vc_C_1/bs_64/wd_0e+00/lr_3e-06/best_epoch_1712_score_0.662.pt',\n",
       "  '../saved_models/MLP/nl_5_id_512/RocLoss/nt_expo_lambda/vc_C_2/bs_64/wd_0e+00/lr_3e-06/best_epoch_145_score_0.680.pt',\n",
       "  '../saved_models/MLP/nl_5_id_512/RocLoss/nt_expo_lambda/vc_C_5/bs_64/wd_0e+00/lr_3e-06/best_epoch_272_score_0.731.pt'],\n",
       " ['../saved_models/MLP/nl_5_id_512/BCELoss/nt_expo_lambda/vc_C_1/bs_64/wd_1e-03/lr_3e-06/best_epoch_1175_score_0.660.pt',\n",
       "  '../saved_models/MLP/nl_5_id_512/BCELoss/nt_expo_lambda/vc_C_2/bs_64/wd_1e-03/lr_3e-06/best_epoch_291_score_0.680.pt',\n",
       "  '../saved_models/MLP/nl_5_id_512/BCELoss/nt_expo_lambda/vc_C_5/bs_64/wd_1e-03/lr_3e-06/best_epoch_359_score_0.721.pt'],\n",
       " ['../saved_models/MLP/nl_5_id_512/BCELoss/nt_expo_lambda/vc_C_1/bs_64/wd_1e-02/lr_3e-06/best_epoch_1695_score_0.649.pt',\n",
       "  '../saved_models/MLP/nl_5_id_512/BCELoss/nt_expo_lambda/vc_C_2/bs_64/wd_1e-02/lr_3e-06/best_epoch_426_score_0.678.pt',\n",
       "  '../saved_models/MLP/nl_5_id_512/BCELoss/nt_expo_lambda/vc_C_5/bs_64/wd_1e-02/lr_3e-06/best_epoch_477_score_0.731.pt'],\n",
       " ['../saved_models/MLP/nl_5_id_512/RocLoss/nt_expo_lambda/vc_C_1/bs_64/wd_3e-03/lr_3e-06/best_epoch_1881_score_0.666.pt',\n",
       "  '../saved_models/MLP/nl_5_id_512/RocLoss/nt_expo_lambda/vc_C_2/bs_64/wd_3e-03/lr_3e-06/best_epoch_271_score_0.680.pt',\n",
       "  '../saved_models/MLP/nl_5_id_512/RocLoss/nt_expo_lambda/vc_C_5/bs_64/wd_3e-03/lr_3e-06/best_epoch_331_score_0.709.pt']]"
      ]
     },
     "metadata": {},
     "output_type": "display_data"
    }
   ],
   "source": [
    "all_paths[:5]"
   ]
  },
  {
   "cell_type": "code",
   "execution_count": 138,
   "metadata": {},
   "outputs": [],
   "source": [
    "num_layers = 1\n",
    "inside_dim = 512\n",
    "mono_model = MLP(num_layers=num_layers, inside_dim=inside_dim)\n",
    "\n",
    "mono_batch_size = 64\n",
    "\n",
    "list_val_center = [\"C_1\", \"C_2\", \"C_5\"]\n",
    "list_normalizer_type = [\"None\", \"mean\", \"expo_lambda\"]\n",
    "list_wd = [0, 1e-2, 3e-2]\n",
    "list_mono_lr = [1e-5, 3e-5]\n",
    "list_criterion = [nn.BCELoss(), RocLoss()]\n",
    "\n",
    "\n",
    "all_val_scores = []\n",
    "all_paths = []\n",
    "all_params = []\n",
    "for normalizer_type in list_normalizer_type:\n",
    "    for wd in list_wd:\n",
    "        for mono_lr in list_mono_lr:\n",
    "            for criterion in list_criterion:\n",
    "                val_score = 0\n",
    "                paths = []\n",
    "                params = f\"{mono_model.name}/{criterion._get_name()}/nt_{normalizer_type}/wd_{'{:.0e}'.format(wd)}/lr_{'{:.0e}'.format(mono_lr)}\"\n",
    "                for val_center in list_val_center:\n",
    "                    run_name = f\"{mono_model.name}/{criterion._get_name()}/nt_{normalizer_type}/vc_{val_center}/bs_{mono_batch_size}/wd_{'{:.0e}'.format(wd)}/lr_{'{:.0e}'.format(mono_lr)}\"\n",
    "                    PATH_DIR = f\"../saved_models/{run_name}\"\n",
    "\n",
    "                    for i, model_path in enumerate(Path(PATH_DIR).glob(\"*\")):\n",
    "                        val_score += float(model_path.name[-8:-3])\n",
    "                    paths.append(f\"{PATH_DIR}/{model_path.name}\")\n",
    "\n",
    "                val_score /= len(list_val_center)\n",
    "\n",
    "                all_val_scores.append(val_score)\n",
    "                all_paths.append(paths)\n",
    "                all_params.append(params)"
   ]
  },
  {
   "cell_type": "code",
   "execution_count": 139,
   "metadata": {},
   "outputs": [],
   "source": [
    "all_paths = [x for _, x in sorted(zip(all_val_scores, all_paths))]\n",
    "all_params = [x for _, x in sorted(zip(all_val_scores, all_params))]\n",
    "all_val_scores.sort()\n",
    "\n",
    "all_paths.reverse()\n",
    "all_val_scores.reverse()\n",
    "all_params.reverse()"
   ]
  },
  {
   "cell_type": "code",
   "execution_count": 140,
   "metadata": {},
   "outputs": [
    {
     "data": {
      "text/plain": [
       "['MLP/nl_1_id_512/RocLoss/nt_expo_lambda/wd_1e-02/lr_3e-05',\n",
       " 'MLP/nl_1_id_512/BCELoss/nt_expo_lambda/wd_0e+00/lr_3e-05',\n",
       " 'MLP/nl_1_id_512/RocLoss/nt_expo_lambda/wd_0e+00/lr_3e-05',\n",
       " 'MLP/nl_1_id_512/RocLoss/nt_expo_lambda/wd_3e-02/lr_3e-05',\n",
       " 'MLP/nl_1_id_512/RocLoss/nt_None/wd_3e-02/lr_3e-05']"
      ]
     },
     "execution_count": 140,
     "metadata": {},
     "output_type": "execute_result"
    }
   ],
   "source": [
    "all_params[:5]"
   ]
  },
  {
   "cell_type": "code",
   "execution_count": 141,
   "metadata": {},
   "outputs": [
    {
     "name": "stdout",
     "output_type": "stream",
     "text": [
      "val_score:0.6940, MLP/nl_1_id_512/RocLoss/nt_expo_lambda/wd_1e-02/lr_3e-05\n",
      "val_score:0.6910, MLP/nl_1_id_512/BCELoss/nt_expo_lambda/wd_0e+00/lr_3e-05\n",
      "val_score:0.6903, MLP/nl_1_id_512/RocLoss/nt_expo_lambda/wd_0e+00/lr_3e-05\n",
      "val_score:0.6847, MLP/nl_1_id_512/RocLoss/nt_expo_lambda/wd_3e-02/lr_3e-05\n",
      "val_score:0.6833, MLP/nl_1_id_512/RocLoss/nt_None/wd_3e-02/lr_3e-05\n"
     ]
    }
   ],
   "source": [
    "for val_score, params in zip(all_val_scores, all_params[:5]):\n",
    "    print(f\"val_score:{'{:.4f}'.format(val_score)}, {params}\")"
   ]
  },
  {
   "cell_type": "code",
   "execution_count": 142,
   "metadata": {},
   "outputs": [
    {
     "data": {
      "text/plain": [
       "[['../saved_models/MLP/nl_1_id_512/RocLoss/nt_expo_lambda/vc_C_1/bs_64/wd_1e-02/lr_3e-05/best_epoch_42_score_0.640.pt',\n",
       "  '../saved_models/MLP/nl_1_id_512/RocLoss/nt_expo_lambda/vc_C_2/bs_64/wd_1e-02/lr_3e-05/best_epoch_134_score_0.704.pt',\n",
       "  '../saved_models/MLP/nl_1_id_512/RocLoss/nt_expo_lambda/vc_C_5/bs_64/wd_1e-02/lr_3e-05/best_epoch_154_score_0.738.pt'],\n",
       " ['../saved_models/MLP/nl_1_id_512/BCELoss/nt_expo_lambda/vc_C_1/bs_64/wd_0e+00/lr_3e-05/best_epoch_3086_score_0.642.pt',\n",
       "  '../saved_models/MLP/nl_1_id_512/BCELoss/nt_expo_lambda/vc_C_2/bs_64/wd_0e+00/lr_3e-05/best_epoch_81_score_0.691.pt',\n",
       "  '../saved_models/MLP/nl_1_id_512/BCELoss/nt_expo_lambda/vc_C_5/bs_64/wd_0e+00/lr_3e-05/best_epoch_250_score_0.740.pt'],\n",
       " ['../saved_models/MLP/nl_1_id_512/RocLoss/nt_expo_lambda/vc_C_1/bs_64/wd_0e+00/lr_3e-05/best_epoch_4932_score_0.642.pt',\n",
       "  '../saved_models/MLP/nl_1_id_512/RocLoss/nt_expo_lambda/vc_C_2/bs_64/wd_0e+00/lr_3e-05/best_epoch_4555_score_0.685.pt',\n",
       "  '../saved_models/MLP/nl_1_id_512/RocLoss/nt_expo_lambda/vc_C_5/bs_64/wd_0e+00/lr_3e-05/best_epoch_166_score_0.744.pt'],\n",
       " ['../saved_models/MLP/nl_1_id_512/RocLoss/nt_expo_lambda/vc_C_1/bs_64/wd_3e-02/lr_3e-05/best_epoch_4861_score_0.643.pt',\n",
       "  '../saved_models/MLP/nl_1_id_512/RocLoss/nt_expo_lambda/vc_C_2/bs_64/wd_3e-02/lr_3e-05/best_epoch_310_score_0.682.pt',\n",
       "  '../saved_models/MLP/nl_1_id_512/RocLoss/nt_expo_lambda/vc_C_5/bs_64/wd_3e-02/lr_3e-05/best_epoch_321_score_0.729.pt'],\n",
       " ['../saved_models/MLP/nl_1_id_512/RocLoss/nt_None/vc_C_1/bs_64/wd_3e-02/lr_3e-05/best_epoch_78_score_0.642.pt',\n",
       "  '../saved_models/MLP/nl_1_id_512/RocLoss/nt_None/vc_C_2/bs_64/wd_3e-02/lr_3e-05/best_epoch_4584_score_0.670.pt',\n",
       "  '../saved_models/MLP/nl_1_id_512/RocLoss/nt_None/vc_C_5/bs_64/wd_3e-02/lr_3e-05/best_epoch_65_score_0.738.pt']]"
      ]
     },
     "execution_count": 142,
     "metadata": {},
     "output_type": "execute_result"
    }
   ],
   "source": [
    "all_paths[:5]"
   ]
  },
  {
   "attachments": {},
   "cell_type": "markdown",
   "metadata": {},
   "source": [
    "### Inference for submission"
   ]
  },
  {
   "cell_type": "code",
   "execution_count": null,
   "metadata": {},
   "outputs": [
    {
     "data": {
      "text/plain": [
       "('MLP/nl_1_id_512/RocLoss/nt_expo_lambda/wd_1e-02/lr_3e-05',\n",
       " ['../saved_models/MLP/nl_1_id_512/RocLoss/nt_expo_lambda/vc_C_1/bs_64/wd_1e-02/lr_3e-05/best_epoch_42_score_0.640.pt',\n",
       "  '../saved_models/MLP/nl_1_id_512/RocLoss/nt_expo_lambda/vc_C_2/bs_64/wd_1e-02/lr_3e-05/best_epoch_134_score_0.704.pt',\n",
       "  '../saved_models/MLP/nl_1_id_512/RocLoss/nt_expo_lambda/vc_C_5/bs_64/wd_1e-02/lr_3e-05/best_epoch_154_score_0.738.pt'])"
      ]
     },
     "metadata": {},
     "output_type": "display_data"
    }
   ],
   "source": [
    "all_val_scores[0], all_params[0], all_paths[0]"
   ]
  },
  {
   "cell_type": "code",
   "execution_count": 11,
   "metadata": {},
   "outputs": [],
   "source": [
    "num_layers = 5\n",
    "inside_dim = 512\n",
    "\n",
    "mono_batch_size = 64\n",
    "mono_nb_epochs = 2000\n",
    "\n",
    "mono_lr = 3e-6\n",
    "val_center = \"None\"\n",
    "wd = 3e-3\n",
    "criterion = nn.BCELoss()\n",
    "normalizer_type = \"None\"\n",
    "\n",
    "mono_model = MLP(num_layers=num_layers, inside_dim=inside_dim)"
   ]
  },
  {
   "cell_type": "code",
   "execution_count": 12,
   "metadata": {},
   "outputs": [],
   "source": [
    "X_train, X_train_mean, y_train, X_val, X_val_mean, y_val, X_test, X_test_mean, df_test = build_dataset(val_center=val_center, normalizer_type=normalizer_type)"
   ]
  },
  {
   "cell_type": "code",
   "execution_count": 13,
   "metadata": {},
   "outputs": [],
   "source": [
    "run_name = f\"{mono_model.name}/{criterion._get_name()}/nt_{normalizer_type}/vc_{val_center}/bs_{mono_batch_size}/wd_{'{:.0e}'.format(wd)}/lr_{'{:.0e}'.format(mono_lr)}\"\n",
    "PATH_DIR = f\"../saved_models/{run_name}\"\n",
    "\n",
    "for i, model_path in enumerate(Path(PATH_DIR).glob(\"*\")):\n",
    "    break\n",
    "path = f\"{PATH_DIR}/{model_path.name}\"\n",
    "\n",
    "mono_model.load_state_dict(torch.load(path))\n",
    "mono_model.eval()\n",
    "pass"
   ]
  },
  {
   "cell_type": "code",
   "execution_count": 14,
   "metadata": {},
   "outputs": [
    {
     "name": "stdout",
     "output_type": "stream",
     "text": [
      "val score: 0.7470355731225297\n"
     ]
    }
   ],
   "source": [
    "mono_model_val_score = roc_auc_score(y_val, mono_model(torch.Tensor(X_val_mean)).detach())\n",
    "print(f\"val score: {mono_model_val_score}\")"
   ]
  },
  {
   "cell_type": "code",
   "execution_count": 15,
   "metadata": {},
   "outputs": [
    {
     "data": {
      "text/html": [
       "<div>\n",
       "<style scoped>\n",
       "    .dataframe tbody tr th:only-of-type {\n",
       "        vertical-align: middle;\n",
       "    }\n",
       "\n",
       "    .dataframe tbody tr th {\n",
       "        vertical-align: top;\n",
       "    }\n",
       "\n",
       "    .dataframe thead th {\n",
       "        text-align: right;\n",
       "    }\n",
       "</style>\n",
       "<table border=\"1\" class=\"dataframe\">\n",
       "  <thead>\n",
       "    <tr style=\"text-align: right;\">\n",
       "      <th></th>\n",
       "      <th>Sample ID</th>\n",
       "      <th>Target</th>\n",
       "    </tr>\n",
       "  </thead>\n",
       "  <tbody>\n",
       "    <tr>\n",
       "      <th>0</th>\n",
       "      <td>ID_003.npy</td>\n",
       "      <td>0.598006</td>\n",
       "    </tr>\n",
       "    <tr>\n",
       "      <th>1</th>\n",
       "      <td>ID_004.npy</td>\n",
       "      <td>0.815719</td>\n",
       "    </tr>\n",
       "    <tr>\n",
       "      <th>2</th>\n",
       "      <td>ID_008.npy</td>\n",
       "      <td>0.334107</td>\n",
       "    </tr>\n",
       "    <tr>\n",
       "      <th>3</th>\n",
       "      <td>ID_009.npy</td>\n",
       "      <td>0.650818</td>\n",
       "    </tr>\n",
       "    <tr>\n",
       "      <th>4</th>\n",
       "      <td>ID_010.npy</td>\n",
       "      <td>0.064325</td>\n",
       "    </tr>\n",
       "  </tbody>\n",
       "</table>\n",
       "</div>"
      ],
      "text/plain": [
       "    Sample ID    Target\n",
       "0  ID_003.npy  0.598006\n",
       "1  ID_004.npy  0.815719\n",
       "2  ID_008.npy  0.334107\n",
       "3  ID_009.npy  0.650818\n",
       "4  ID_010.npy  0.064325"
      ]
     },
     "execution_count": 15,
     "metadata": {},
     "output_type": "execute_result"
    }
   ],
   "source": [
    "run_name_ = f\"{mono_model.name}_{criterion._get_name()}_nt_{normalizer_type}_vc_{val_center}_bs_{mono_batch_size}_wd_{'{:.0e}'.format(wd)}_lr_{'{:.0e}'.format(mono_lr)}\"\n",
    "\n",
    "y_test = mono_model(torch.Tensor(X_test_mean)).cpu().detach().squeeze().numpy()\n",
    "\n",
    "\n",
    "submission = pd.DataFrame(\n",
    "    {\"Sample ID\": df_test[\"Sample ID\"].values, \"Target\": y_test}\n",
    ").sort_values(\n",
    "    \"Sample ID\"\n",
    ")  # extra step to sort the sample IDs\n",
    "\n",
    "# sanity checks\n",
    "assert all(submission[\"Target\"].between(0, 1)), \"`Target` values must be in [0, 1]\"\n",
    "assert submission.shape == (149, 2), \"Your submission file must be of shape (149, 2)\"\n",
    "assert list(submission.columns) == [\n",
    "    \"Sample ID\",\n",
    "    \"Target\",\n",
    "], \"Your submission file must have columns `Sample ID` and `Target`\"\n",
    "\n",
    "# save the submission as a csv file\n",
    "\n",
    "OUTPUT_PATH_DIR = Path(f\"../data/test_outputs/{run_name_}_{'{:.4f}'.format(mono_model_val_score)}/\")\n",
    "if not OUTPUT_PATH_DIR.is_dir():\n",
    "    os.makedirs(OUTPUT_PATH_DIR)\n",
    "submission.to_csv(f\"{OUTPUT_PATH_DIR}/{'{:.4f}'.format(mono_model_val_score)}.csv\", index=None)\n",
    "submission.head()"
   ]
  },
  {
   "attachments": {},
   "cell_type": "markdown",
   "metadata": {},
   "source": [
    "## SmoothMax Models"
   ]
  },
  {
   "attachments": {},
   "cell_type": "markdown",
   "metadata": {},
   "source": [
    "### Study params"
   ]
  },
  {
   "attachments": {},
   "cell_type": "markdown",
   "metadata": {},
   "source": [
    "#### Num layer = 5"
   ]
  },
  {
   "cell_type": "code",
   "execution_count": 246,
   "metadata": {},
   "outputs": [],
   "source": [
    "num_layers = 5\n",
    "inside_dim = 512\n",
    "\n",
    "mono_model = MLP(num_layers=num_layers, inside_dim=inside_dim)\n",
    "model = SmoothMaxAggregator(mono_model=mono_model)\n",
    "\n",
    "\n",
    "normalizer_type = \"None\"\n",
    "mono_lr = 3e-6\n",
    "mono_batch_size = 64\n",
    "\n",
    "batch_size = 16\n",
    "criterion = nn.BCELoss()\n",
    "\n",
    "list_val_center = [\"C_1\", \"C_2\", \"C_5\"]\n",
    "list_wd = [0, 1e-3, 3e-3, 1e-2]\n",
    "list_lr = [1e-7, 3e-7, 1e-6]\n",
    "\n",
    "\n",
    "all_val_scores = []\n",
    "all_paths = []\n",
    "all_params = []\n",
    "for wd in list_wd:\n",
    "    for lr in list_lr:\n",
    "        val_score = 0\n",
    "        paths = []\n",
    "        params = f\"{model.name}/{criterion._get_name()}/nt_{normalizer_type}/wd_{'{:.0e}'.format(wd)}/lr_{'{:.0e}'.format(lr)}\"\n",
    "        for val_center in list_val_center:\n",
    "            run_name = f\"{model.name}/{criterion._get_name()}/nt_{normalizer_type}/vc_{val_center}/bs_{batch_size}/wd_{'{:.0e}'.format(wd)}/lr_{'{:.0e}'.format(lr)}/mono_lr_{'{:.0e}'.format(mono_lr)}\"\n",
    "            PATH_DIR = f\"../saved_models/{run_name}\"\n",
    "\n",
    "            for i, model_path in enumerate(Path(PATH_DIR).glob(\"*\")):\n",
    "                val_score += float(model_path.name[-8:-3])\n",
    "            paths.append(f\"{PATH_DIR}/{model_path.name}\")\n",
    "\n",
    "        val_score /= len(list_val_center)\n",
    "\n",
    "        all_val_scores.append(val_score)\n",
    "        all_paths.append(paths)\n",
    "        all_params.append(params)"
   ]
  },
  {
   "cell_type": "code",
   "execution_count": 247,
   "metadata": {},
   "outputs": [],
   "source": [
    "all_paths = [x for _, x in sorted(zip(all_val_scores, all_paths))]\n",
    "all_params = [x for _, x in sorted(zip(all_val_scores, all_params))]\n",
    "all_val_scores.sort()\n",
    "\n",
    "all_paths.reverse()\n",
    "all_val_scores.reverse()\n",
    "all_params.reverse()"
   ]
  },
  {
   "cell_type": "code",
   "execution_count": 248,
   "metadata": {},
   "outputs": [
    {
     "data": {
      "text/plain": [
       "['SmoothMaxAggregator/MLP/nl_5_id_512/BCELoss/nt_None/wd_3e-03/lr_1e-06',\n",
       " 'SmoothMaxAggregator/MLP/nl_5_id_512/BCELoss/nt_None/wd_3e-03/lr_3e-07',\n",
       " 'SmoothMaxAggregator/MLP/nl_5_id_512/BCELoss/nt_None/wd_1e-03/lr_1e-06',\n",
       " 'SmoothMaxAggregator/MLP/nl_5_id_512/BCELoss/nt_None/wd_1e-02/lr_3e-07',\n",
       " 'SmoothMaxAggregator/MLP/nl_5_id_512/BCELoss/nt_None/wd_1e-02/lr_1e-06']"
      ]
     },
     "execution_count": 248,
     "metadata": {},
     "output_type": "execute_result"
    }
   ],
   "source": [
    "all_params[:5]"
   ]
  },
  {
   "cell_type": "code",
   "execution_count": 249,
   "metadata": {},
   "outputs": [
    {
     "name": "stdout",
     "output_type": "stream",
     "text": [
      "val_score:0.6773, SmoothMaxAggregator/MLP/nl_5_id_512/BCELoss/nt_None/wd_3e-03/lr_1e-06\n",
      "val_score:0.6763, SmoothMaxAggregator/MLP/nl_5_id_512/BCELoss/nt_None/wd_3e-03/lr_3e-07\n",
      "val_score:0.6757, SmoothMaxAggregator/MLP/nl_5_id_512/BCELoss/nt_None/wd_1e-03/lr_1e-06\n",
      "val_score:0.6757, SmoothMaxAggregator/MLP/nl_5_id_512/BCELoss/nt_None/wd_1e-02/lr_3e-07\n",
      "val_score:0.6757, SmoothMaxAggregator/MLP/nl_5_id_512/BCELoss/nt_None/wd_1e-02/lr_1e-06\n"
     ]
    }
   ],
   "source": [
    "for val_score, params in zip(all_val_scores[:5], all_params[:5]):\n",
    "    print(f\"val_score:{'{:.4f}'.format(val_score)}, {params}\")"
   ]
  },
  {
   "cell_type": "code",
   "execution_count": 250,
   "metadata": {},
   "outputs": [
    {
     "data": {
      "text/plain": [
       "[['../saved_models/SmoothMaxAggregator/MLP/nl_5_id_512/BCELoss/nt_None/vc_C_1/bs_16/wd_3e-03/lr_1e-06/mono_lr_3e-06/best_epoch_493_score_0.631.pt',\n",
       "  '../saved_models/SmoothMaxAggregator/MLP/nl_5_id_512/BCELoss/nt_None/vc_C_2/bs_16/wd_3e-03/lr_1e-06/mono_lr_3e-06/best_epoch_82_score_0.697.pt',\n",
       "  '../saved_models/SmoothMaxAggregator/MLP/nl_5_id_512/BCELoss/nt_None/vc_C_5/bs_16/wd_3e-03/lr_1e-06/mono_lr_3e-06/best_epoch_18_score_0.704.pt'],\n",
       " ['../saved_models/SmoothMaxAggregator/MLP/nl_5_id_512/BCELoss/nt_None/vc_C_1/bs_16/wd_3e-03/lr_3e-07/mono_lr_3e-06/best_epoch_425_score_0.624.pt',\n",
       "  '../saved_models/SmoothMaxAggregator/MLP/nl_5_id_512/BCELoss/nt_None/vc_C_2/bs_16/wd_3e-03/lr_3e-07/mono_lr_3e-06/best_epoch_417_score_0.701.pt',\n",
       "  '../saved_models/SmoothMaxAggregator/MLP/nl_5_id_512/BCELoss/nt_None/vc_C_5/bs_16/wd_3e-03/lr_3e-07/mono_lr_3e-06/best_epoch_60_score_0.704.pt'],\n",
       " ['../saved_models/SmoothMaxAggregator/MLP/nl_5_id_512/BCELoss/nt_None/vc_C_1/bs_16/wd_1e-03/lr_1e-06/mono_lr_3e-06/best_epoch_290_score_0.632.pt',\n",
       "  '../saved_models/SmoothMaxAggregator/MLP/nl_5_id_512/BCELoss/nt_None/vc_C_2/bs_16/wd_1e-03/lr_1e-06/mono_lr_3e-06/best_epoch_33_score_0.694.pt',\n",
       "  '../saved_models/SmoothMaxAggregator/MLP/nl_5_id_512/BCELoss/nt_None/vc_C_5/bs_16/wd_1e-03/lr_1e-06/mono_lr_3e-06/best_epoch_15_score_0.701.pt'],\n",
       " ['../saved_models/SmoothMaxAggregator/MLP/nl_5_id_512/BCELoss/nt_None/vc_C_1/bs_16/wd_1e-02/lr_3e-07/mono_lr_3e-06/best_epoch_496_score_0.626.pt',\n",
       "  '../saved_models/SmoothMaxAggregator/MLP/nl_5_id_512/BCELoss/nt_None/vc_C_2/bs_16/wd_1e-02/lr_3e-07/mono_lr_3e-06/best_epoch_237_score_0.695.pt',\n",
       "  '../saved_models/SmoothMaxAggregator/MLP/nl_5_id_512/BCELoss/nt_None/vc_C_5/bs_16/wd_1e-02/lr_3e-07/mono_lr_3e-06/best_epoch_1_score_0.706.pt'],\n",
       " ['../saved_models/SmoothMaxAggregator/MLP/nl_5_id_512/BCELoss/nt_None/vc_C_1/bs_16/wd_1e-02/lr_1e-06/mono_lr_3e-06/best_epoch_331_score_0.626.pt',\n",
       "  '../saved_models/SmoothMaxAggregator/MLP/nl_5_id_512/BCELoss/nt_None/vc_C_2/bs_16/wd_1e-02/lr_1e-06/mono_lr_3e-06/best_epoch_67_score_0.695.pt',\n",
       "  '../saved_models/SmoothMaxAggregator/MLP/nl_5_id_512/BCELoss/nt_None/vc_C_5/bs_16/wd_1e-02/lr_1e-06/mono_lr_3e-06/best_epoch_12_score_0.706.pt']]"
      ]
     },
     "execution_count": 250,
     "metadata": {},
     "output_type": "execute_result"
    }
   ],
   "source": [
    "all_paths[:5]"
   ]
  },
  {
   "attachments": {},
   "cell_type": "markdown",
   "metadata": {},
   "source": [
    "### Inference for submission"
   ]
  },
  {
   "cell_type": "code",
   "execution_count": 251,
   "metadata": {},
   "outputs": [
    {
     "data": {
      "text/plain": [
       "(0.6773333333333333,\n",
       " 'SmoothMaxAggregator/MLP/nl_5_id_512/BCELoss/nt_None/wd_3e-03/lr_1e-06',\n",
       " ['../saved_models/SmoothMaxAggregator/MLP/nl_5_id_512/BCELoss/nt_None/vc_C_1/bs_16/wd_3e-03/lr_1e-06/mono_lr_3e-06/best_epoch_493_score_0.631.pt',\n",
       "  '../saved_models/SmoothMaxAggregator/MLP/nl_5_id_512/BCELoss/nt_None/vc_C_2/bs_16/wd_3e-03/lr_1e-06/mono_lr_3e-06/best_epoch_82_score_0.697.pt',\n",
       "  '../saved_models/SmoothMaxAggregator/MLP/nl_5_id_512/BCELoss/nt_None/vc_C_5/bs_16/wd_3e-03/lr_1e-06/mono_lr_3e-06/best_epoch_18_score_0.704.pt'])"
      ]
     },
     "execution_count": 251,
     "metadata": {},
     "output_type": "execute_result"
    }
   ],
   "source": [
    "all_val_scores[0], all_params[0], all_paths[0]"
   ]
  },
  {
   "cell_type": "code",
   "execution_count": 24,
   "metadata": {},
   "outputs": [],
   "source": [
    "num_layers = 5\n",
    "inside_dim = 512\n",
    "\n",
    "mono_batch_size = 64\n",
    "mono_nb_epochs = 2000\n",
    "batch_size = 16\n",
    "nb_epochs = 500\n",
    "\n",
    "\n",
    "mono_lr = 3e-6\n",
    "val_center = \"None\"\n",
    "wd = 3e-3\n",
    "criterion = nn.BCELoss()\n",
    "normalizer_type = \"None\"\n",
    "\n",
    "lr=3e-6\n",
    "\n",
    "mono_model = MLP(num_layers=num_layers, inside_dim=inside_dim)\n",
    "model = SmoothMaxAggregator(mono_model=mono_model)"
   ]
  },
  {
   "cell_type": "code",
   "execution_count": 25,
   "metadata": {},
   "outputs": [],
   "source": [
    "run_name = f\"{model.name}/{criterion._get_name()}/nt_{normalizer_type}/vc_{val_center}/bs_{batch_size}/wd_{'{:.0e}'.format(wd)}/lr_{'{:.0e}'.format(lr)}/mono_lr_{'{:.0e}'.format(mono_lr)}\"\n",
    "PATH_DIR = f\"../saved_models/{run_name}\"\n",
    "\n",
    "for i, model_path in enumerate(Path(PATH_DIR).glob(\"*\")):\n",
    "    break\n",
    "path = f\"{PATH_DIR}/{model_path.name}\"\n",
    "\n",
    "model.load_state_dict(torch.load(path))\n",
    "model.eval()\n",
    "pass"
   ]
  },
  {
   "cell_type": "code",
   "execution_count": 26,
   "metadata": {},
   "outputs": [],
   "source": [
    "X_train, X_train_mean, y_train, X_val, X_val_mean, y_val, X_test, X_test_mean, df_test = build_dataset(val_center=val_center, normalizer_type=normalizer_type)"
   ]
  },
  {
   "cell_type": "code",
   "execution_count": 28,
   "metadata": {},
   "outputs": [
    {
     "name": "stdout",
     "output_type": "stream",
     "text": [
      "val score: 0.7895256916996047\n"
     ]
    }
   ],
   "source": [
    "model_val_score = roc_auc_score(y_val, model(torch.Tensor(X_val)).detach())\n",
    "print(f\"val score: {model_val_score}\")"
   ]
  },
  {
   "cell_type": "code",
   "execution_count": 29,
   "metadata": {},
   "outputs": [
    {
     "data": {
      "text/html": [
       "<div>\n",
       "<style scoped>\n",
       "    .dataframe tbody tr th:only-of-type {\n",
       "        vertical-align: middle;\n",
       "    }\n",
       "\n",
       "    .dataframe tbody tr th {\n",
       "        vertical-align: top;\n",
       "    }\n",
       "\n",
       "    .dataframe thead th {\n",
       "        text-align: right;\n",
       "    }\n",
       "</style>\n",
       "<table border=\"1\" class=\"dataframe\">\n",
       "  <thead>\n",
       "    <tr style=\"text-align: right;\">\n",
       "      <th></th>\n",
       "      <th>Sample ID</th>\n",
       "      <th>Target</th>\n",
       "    </tr>\n",
       "  </thead>\n",
       "  <tbody>\n",
       "    <tr>\n",
       "      <th>0</th>\n",
       "      <td>ID_003.npy</td>\n",
       "      <td>0.007769</td>\n",
       "    </tr>\n",
       "    <tr>\n",
       "      <th>1</th>\n",
       "      <td>ID_004.npy</td>\n",
       "      <td>0.007774</td>\n",
       "    </tr>\n",
       "    <tr>\n",
       "      <th>2</th>\n",
       "      <td>ID_008.npy</td>\n",
       "      <td>0.007717</td>\n",
       "    </tr>\n",
       "    <tr>\n",
       "      <th>3</th>\n",
       "      <td>ID_009.npy</td>\n",
       "      <td>0.007713</td>\n",
       "    </tr>\n",
       "    <tr>\n",
       "      <th>4</th>\n",
       "      <td>ID_010.npy</td>\n",
       "      <td>0.007623</td>\n",
       "    </tr>\n",
       "  </tbody>\n",
       "</table>\n",
       "</div>"
      ],
      "text/plain": [
       "    Sample ID    Target\n",
       "0  ID_003.npy  0.007769\n",
       "1  ID_004.npy  0.007774\n",
       "2  ID_008.npy  0.007717\n",
       "3  ID_009.npy  0.007713\n",
       "4  ID_010.npy  0.007623"
      ]
     },
     "execution_count": 29,
     "metadata": {},
     "output_type": "execute_result"
    }
   ],
   "source": [
    "run_name_ = f\"{model.name}_{criterion._get_name()}_nt_{normalizer_type}_vc_{val_center}_bs_{mono_batch_size}_wd_{'{:.0e}'.format(wd)}_lr_{'{:.0e}'.format(lr)}_mono_lr_{'{:.0e}'.format(mono_lr)}\"\n",
    "\n",
    "y_test = model(torch.Tensor(X_test)).cpu().detach().squeeze().numpy()\n",
    "\n",
    "\n",
    "submission = pd.DataFrame(\n",
    "    {\"Sample ID\": df_test[\"Sample ID\"].values, \"Target\": y_test}\n",
    ").sort_values(\n",
    "    \"Sample ID\"\n",
    ")  # extra step to sort the sample IDs\n",
    "\n",
    "# sanity checks\n",
    "assert all(submission[\"Target\"].between(0, 1)), \"`Target` values must be in [0, 1]\"\n",
    "assert submission.shape == (149, 2), \"Your submission file must be of shape (149, 2)\"\n",
    "assert list(submission.columns) == [\n",
    "    \"Sample ID\",\n",
    "    \"Target\",\n",
    "], \"Your submission file must have columns `Sample ID` and `Target`\"\n",
    "\n",
    "# save the submission as a csv file\n",
    "\n",
    "OUTPUT_PATH_DIR = Path(f\"../data/test_outputs/{run_name_}_{'{:.4f}'.format(model_val_score)}/\")\n",
    "if not OUTPUT_PATH_DIR.is_dir():\n",
    "    os.makedirs(OUTPUT_PATH_DIR)\n",
    "submission.to_csv(f\"{OUTPUT_PATH_DIR}/{'{:.4f}'.format(model_val_score)}.csv\", index=None)\n",
    "submission.head()"
   ]
  },
  {
   "cell_type": "code",
   "execution_count": null,
   "metadata": {},
   "outputs": [],
   "source": []
  },
  {
   "cell_type": "code",
   "execution_count": null,
   "metadata": {},
   "outputs": [],
   "source": []
  },
  {
   "cell_type": "code",
   "execution_count": null,
   "metadata": {},
   "outputs": [],
   "source": []
  },
  {
   "cell_type": "code",
   "execution_count": null,
   "metadata": {},
   "outputs": [
    {
     "ename": "ValueError",
     "evalue": "",
     "output_type": "error",
     "traceback": [
      "\u001b[1;31m---------------------------------------------------------------------------\u001b[0m\n",
      "\u001b[1;31mValueError\u001b[0m                                Traceback (most recent call last)\n",
      "Cell \u001b[1;32mIn[1], line 1\u001b[0m\n",
      "\u001b[1;32m----> 1\u001b[0m \u001b[39mraise\u001b[39;00m \u001b[39mValueError\u001b[39;00m\n",
      "\n",
      "\u001b[1;31mValueError\u001b[0m: "
     ]
    }
   ],
   "source": [
    "raise ValueError"
   ]
  },
  {
   "attachments": {},
   "cell_type": "markdown",
   "metadata": {},
   "source": [
    "## Further analysis"
   ]
  },
  {
   "cell_type": "code",
   "execution_count": null,
   "metadata": {},
   "outputs": [],
   "source": [
    "# trainings finished, we put all on cpu\n",
    "model.cpu()\n",
    "model.eval()\n",
    "pass"
   ]
  },
  {
   "cell_type": "code",
   "execution_count": null,
   "metadata": {},
   "outputs": [],
   "source": [
    "val_predictions = model(torch.Tensor(X_val)).detach().cpu()"
   ]
  },
  {
   "cell_type": "markdown",
   "metadata": {},
   "source": [
    "### ROC Curve"
   ]
  },
  {
   "cell_type": "code",
   "execution_count": null,
   "metadata": {},
   "outputs": [
    {
     "data": {
      "text/plain": [
       "<sklearn.metrics._plot.roc_curve.RocCurveDisplay at 0x18503ddf730>"
      ]
     },
     "metadata": {},
     "output_type": "display_data"
    },
    {
     "data": {
      "image/png": "[encoded data removed]",
      "text/plain": [
       "<Figure size 640x480 with 1 Axes>"
      ]
     },
     "metadata": {},
     "output_type": "display_data"
    }
   ],
   "source": [
    "# Predictions of model\n",
    "RocCurveDisplay.from_predictions(y_val, val_predictions)"
   ]
  },
  {
   "cell_type": "markdown",
   "metadata": {},
   "source": [
    "## Repartitions"
   ]
  },
  {
   "cell_type": "code",
   "execution_count": null,
   "metadata": {},
   "outputs": [],
   "source": [
    "X_positive_train = X_train[y_train == 1]\n",
    "X_negative_train = X_train[y_train == 0]"
   ]
  },
  {
   "cell_type": "code",
   "execution_count": null,
   "metadata": {},
   "outputs": [],
   "source": [
    "all_positive_features = torch.Tensor(X_positive_train)\n",
    "all_negative_features = torch.Tensor(X_negative_train)\n",
    "\n",
    "all_positive_predict = model(all_positive_features).flatten()\n",
    "all_negative_predict = model(all_negative_features).flatten()"
   ]
  },
  {
   "cell_type": "code",
   "execution_count": null,
   "metadata": {},
   "outputs": [
    {
     "data": {
      "image/png": "[encoded data removed]",
      "text/plain": [
       "<Figure size 640x480 with 1 Axes>"
      ]
     },
     "metadata": {},
     "output_type": "display_data"
    }
   ],
   "source": [
    "sns.histplot(all_positive_predict.detach(), label=\"positive\")\n",
    "sns.histplot(all_negative_predict.detach(), label=\"negative\", color=\"r\")\n",
    "plt.legend()\n",
    "plt.show()"
   ]
  }
 ],
 "metadata": {
  "kernelspec": {
   "display_name": "owkin",
   "language": "python",
   "name": "python3"
  },
  "language_info": {
   "codemirror_mode": {
    "name": "ipython",
    "version": 3
   },
   "file_extension": ".py",
   "mimetype": "text/x-python",
   "name": "python",
   "nbconvert_exporter": "python",
   "pygments_lexer": "ipython3",
   "version": "3.9.16"
  },
  "latex_envs": {
   "LaTeX_envs_menu_present": true,
   "autoclose": false,
   "autocomplete": true,
   "bibliofile": "biblio.bib",
   "cite_by": "apalike",
   "current_citInitial": 1,
   "eqLabelWithNumbers": true,
   "eqNumInitial": 1,
   "hotkeys": {
    "equation": "Ctrl-E",
    "itemize": "Ctrl-I"
   },
   "labels_anchors": false,
   "latex_user_defs": false,
   "report_style_numbering": false,
   "user_envs_cfg": false
  },
  "toc": {
   "base_numbering": 1,
   "nav_menu": {},
   "number_sections": false,
   "sideBar": true,
   "skip_h1_title": false,
   "title_cell": "Table of Contents",
   "title_sidebar": "Contents",
   "toc_cell": false,
   "toc_position": {},
   "toc_section_display": true,
   "toc_window_display": false
  },
  "vscode": {
   "interpreter": {
    "hash": "a319f299fe27b757af82a95e0b7a01750980362075c597dc751810aa8f4879dd"
   }
  }
 },
 "nbformat": 4,
 "nbformat_minor": 2
}
