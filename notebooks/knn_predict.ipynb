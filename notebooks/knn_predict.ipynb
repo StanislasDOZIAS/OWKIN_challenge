{
 "cells": [
  {
   "cell_type": "code",
   "execution_count": 1,
   "metadata": {},
   "outputs": [],
   "source": [
    "from pathlib import Path\n",
    "import os\n",
    "import sys\n",
    "\n",
    "module_path = os.path.abspath(os.path.join('..'))\n",
    "if module_path not in sys.path:\n",
    "    sys.path.append(module_path)\n",
    "\n",
    "import matplotlib.pyplot as plt\n",
    "from tqdm import tqdm\n",
    "import pandas as pd\n",
    "import numpy as np\n",
    "\n",
    "os.environ[\"WANDB_SILENT\"] = \"true\"\n",
    "\n",
    "from pathlib import Path\n",
    "import numpy as np\n",
    "import pandas as pd\n",
    "\n",
    "from owkin.dataset import build_dataset"
   ]
  },
  {
   "cell_type": "code",
   "execution_count": 2,
   "metadata": {},
   "outputs": [],
   "source": [
    "data_path = \"../data/\"\n",
    "\"\"\"\n",
    "Build `X_train_mean, X_val_mean, X_train, X_val, y_train, y_val`\n",
    "TODO: add other aggregation that mean (e.g. max) ? Use a dict ?\n",
    "\"\"\"\n",
    "\n",
    "# put your own path to the data root directory (see example in `Data architecture` section)\n",
    "data_dir = Path(data_path)\n",
    "\n",
    "# load the training and testing data sets\n",
    "train_features_dir = data_dir / \"train_input\" / \"moco_features\"\n",
    "test_features_dir = data_dir / \"test_input\" / \"moco_features\"\n",
    "df_train_val = pd.read_csv(data_dir / \"supplementary_data\" / \"train_metadata.csv\")\n",
    "df_test = pd.read_csv(data_dir / \"supplementary_data\" / \"test_metadata.csv\")\n",
    "\n",
    "\n",
    "# concatenate y_train_val and df_train_val\n",
    "y_train_val = pd.read_csv(data_dir / \"train_output.csv\")\n",
    "df_train_val = df_train_val.merge(y_train_val, on=\"Sample ID\")\n"
   ]
  },
  {
   "cell_type": "code",
   "execution_count": 3,
   "metadata": {},
   "outputs": [],
   "source": [
    "# Path for normalization factor\n",
    "data_norm_path = Path('../data/expo_lambda')\n",
    "\n",
    "center_list_train = ['C_1', 'C_2', 'C_5']\n",
    "center_list_val = ['C_3', 'C_4']\n",
    "\n",
    "X_dict = {}\n",
    "y_dict = {}\n",
    "\n",
    "# Extract and normalize\n",
    "for center_curr in center_list_train:\n",
    "    X_train = []\n",
    "    y_train = []\n",
    "\n",
    "    for sample, label, center, patient in df_train_val[\n",
    "        [\"Sample ID\", \"Target\", \"Center ID\", \"Patient ID\"]\n",
    "    ].values:\n",
    "        if center == center_curr:\n",
    "            # load the coordinates and features (1000, 3+2048)\n",
    "            _features = np.load(train_features_dir / sample)\n",
    "            # get coordinates (zoom level, tile x-coord on the slide, tile y-coord on the slide)\n",
    "            # and the MoCo V2 features\n",
    "            coordinates, features = _features[:, :3], _features[:, 3:]  # Ks\n",
    "            X_train.append(features)\n",
    "            y_train.append(label)\n",
    "\n",
    "    # convert to numpy arrays\n",
    "    X_train = np.array(X_train)\n",
    "    y_train = np.array(y_train)\n",
    "    \n",
    "    # normalize\n",
    "    norm_factor = np.load(data_norm_path / f'{center_curr}.npy')\n",
    "    X_train = X_train / norm_factor\n",
    "\n",
    "    X_dict[center_curr] = X_train\n",
    "    y_dict[center_curr] = y_train"
   ]
  },
  {
   "cell_type": "code",
   "execution_count": null,
   "metadata": {},
   "outputs": [],
   "source": []
  },
  {
   "cell_type": "code",
   "execution_count": 6,
   "metadata": {},
   "outputs": [
    {
     "ename": "KeyError",
     "evalue": "\"['Target'] not in index\"",
     "output_type": "error",
     "traceback": [
      "\u001b[1;31m---------------------------------------------------------------------------\u001b[0m",
      "\u001b[1;31mKeyError\u001b[0m                                  Traceback (most recent call last)",
      "Cell \u001b[1;32mIn[6], line 8\u001b[0m\n\u001b[0;32m      5\u001b[0m X_train \u001b[39m=\u001b[39m []\n\u001b[0;32m      6\u001b[0m y_train \u001b[39m=\u001b[39m []\n\u001b[1;32m----> 8\u001b[0m \u001b[39mfor\u001b[39;00m sample, label, center, patient \u001b[39min\u001b[39;00m df_test[\n\u001b[0;32m      9\u001b[0m     [\u001b[39m\"\u001b[39;49m\u001b[39mSample ID\u001b[39;49m\u001b[39m\"\u001b[39;49m, \u001b[39m\"\u001b[39;49m\u001b[39mTarget\u001b[39;49m\u001b[39m\"\u001b[39;49m, \u001b[39m\"\u001b[39;49m\u001b[39mCenter ID\u001b[39;49m\u001b[39m\"\u001b[39;49m, \u001b[39m\"\u001b[39;49m\u001b[39mPatient ID\u001b[39;49m\u001b[39m\"\u001b[39;49m]\n\u001b[0;32m     10\u001b[0m ]\u001b[39m.\u001b[39mvalues:\n\u001b[0;32m     11\u001b[0m     \u001b[39mif\u001b[39;00m center \u001b[39m==\u001b[39m center_curr:\n\u001b[0;32m     12\u001b[0m         \u001b[39m# load the coordinates and features (1000, 3+2048)\u001b[39;00m\n\u001b[0;32m     13\u001b[0m         _features \u001b[39m=\u001b[39m np\u001b[39m.\u001b[39mload(test_features_dir \u001b[39m/\u001b[39m sample)\n",
      "File \u001b[1;32mc:\\Users\\Emeric\\PythonProjects\\OWKIN_challenge\\venv\\lib\\site-packages\\pandas\\core\\frame.py:3813\u001b[0m, in \u001b[0;36mDataFrame.__getitem__\u001b[1;34m(self, key)\u001b[0m\n\u001b[0;32m   3811\u001b[0m     \u001b[39mif\u001b[39;00m is_iterator(key):\n\u001b[0;32m   3812\u001b[0m         key \u001b[39m=\u001b[39m \u001b[39mlist\u001b[39m(key)\n\u001b[1;32m-> 3813\u001b[0m     indexer \u001b[39m=\u001b[39m \u001b[39mself\u001b[39;49m\u001b[39m.\u001b[39;49mcolumns\u001b[39m.\u001b[39;49m_get_indexer_strict(key, \u001b[39m\"\u001b[39;49m\u001b[39mcolumns\u001b[39;49m\u001b[39m\"\u001b[39;49m)[\u001b[39m1\u001b[39m]\n\u001b[0;32m   3815\u001b[0m \u001b[39m# take() does not accept boolean indexers\u001b[39;00m\n\u001b[0;32m   3816\u001b[0m \u001b[39mif\u001b[39;00m \u001b[39mgetattr\u001b[39m(indexer, \u001b[39m\"\u001b[39m\u001b[39mdtype\u001b[39m\u001b[39m\"\u001b[39m, \u001b[39mNone\u001b[39;00m) \u001b[39m==\u001b[39m \u001b[39mbool\u001b[39m:\n",
      "File \u001b[1;32mc:\\Users\\Emeric\\PythonProjects\\OWKIN_challenge\\venv\\lib\\site-packages\\pandas\\core\\indexes\\base.py:6070\u001b[0m, in \u001b[0;36mIndex._get_indexer_strict\u001b[1;34m(self, key, axis_name)\u001b[0m\n\u001b[0;32m   6067\u001b[0m \u001b[39melse\u001b[39;00m:\n\u001b[0;32m   6068\u001b[0m     keyarr, indexer, new_indexer \u001b[39m=\u001b[39m \u001b[39mself\u001b[39m\u001b[39m.\u001b[39m_reindex_non_unique(keyarr)\n\u001b[1;32m-> 6070\u001b[0m \u001b[39mself\u001b[39;49m\u001b[39m.\u001b[39;49m_raise_if_missing(keyarr, indexer, axis_name)\n\u001b[0;32m   6072\u001b[0m keyarr \u001b[39m=\u001b[39m \u001b[39mself\u001b[39m\u001b[39m.\u001b[39mtake(indexer)\n\u001b[0;32m   6073\u001b[0m \u001b[39mif\u001b[39;00m \u001b[39misinstance\u001b[39m(key, Index):\n\u001b[0;32m   6074\u001b[0m     \u001b[39m# GH 42790 - Preserve name from an Index\u001b[39;00m\n",
      "File \u001b[1;32mc:\\Users\\Emeric\\PythonProjects\\OWKIN_challenge\\venv\\lib\\site-packages\\pandas\\core\\indexes\\base.py:6133\u001b[0m, in \u001b[0;36mIndex._raise_if_missing\u001b[1;34m(self, key, indexer, axis_name)\u001b[0m\n\u001b[0;32m   6130\u001b[0m     \u001b[39mraise\u001b[39;00m \u001b[39mKeyError\u001b[39;00m(\u001b[39mf\u001b[39m\u001b[39m\"\u001b[39m\u001b[39mNone of [\u001b[39m\u001b[39m{\u001b[39;00mkey\u001b[39m}\u001b[39;00m\u001b[39m] are in the [\u001b[39m\u001b[39m{\u001b[39;00maxis_name\u001b[39m}\u001b[39;00m\u001b[39m]\u001b[39m\u001b[39m\"\u001b[39m)\n\u001b[0;32m   6132\u001b[0m not_found \u001b[39m=\u001b[39m \u001b[39mlist\u001b[39m(ensure_index(key)[missing_mask\u001b[39m.\u001b[39mnonzero()[\u001b[39m0\u001b[39m]]\u001b[39m.\u001b[39munique())\n\u001b[1;32m-> 6133\u001b[0m \u001b[39mraise\u001b[39;00m \u001b[39mKeyError\u001b[39;00m(\u001b[39mf\u001b[39m\u001b[39m\"\u001b[39m\u001b[39m{\u001b[39;00mnot_found\u001b[39m}\u001b[39;00m\u001b[39m not in index\u001b[39m\u001b[39m\"\u001b[39m)\n",
      "\u001b[1;31mKeyError\u001b[0m: \"['Target'] not in index\""
     ]
    }
   ],
   "source": [
    "center_list_val = ['C_3', 'C_4']\n",
    "\n",
    "# Extract and normalize\n",
    "for center_curr in center_list_val:\n",
    "    X_train = []\n",
    "    y_train = []\n",
    "\n",
    "    for sample, label, center, patient in df_test[\n",
    "        [\"Sample ID\", \"Target\", \"Center ID\", \"Patient ID\"]\n",
    "    ].values:\n",
    "        if center == center_curr:\n",
    "            # load the coordinates and features (1000, 3+2048)\n",
    "            _features = np.load(test_features_dir / sample)\n",
    "            # get coordinates (zoom level, tile x-coord on the slide, tile y-coord on the slide)\n",
    "            # and the MoCo V2 features\n",
    "            coordinates, features = _features[:, :3], _features[:, 3:]  # Ks\n",
    "            X_train.append(features)\n",
    "            y_train.append(label)\n",
    "\n",
    "    # convert to numpy arrays\n",
    "    X_train = np.array(X_train)\n",
    "    y_train = np.array(y_train)\n",
    "    \n",
    "    # normalize\n",
    "    norm_factor = np.load(data_norm_path / f'{center_curr}.npy')\n",
    "    X_train = X_train / norm_factor\n",
    "\n",
    "    X_dict[center_curr] = X_train\n",
    "    y_dict[center_curr] = y_train"
   ]
  },
  {
   "cell_type": "code",
   "execution_count": null,
   "metadata": {},
   "outputs": [],
   "source": []
  }
 ],
 "metadata": {
  "kernelspec": {
   "display_name": "venv",
   "language": "python",
   "name": "python3"
  },
  "language_info": {
   "codemirror_mode": {
    "name": "ipython",
    "version": 3
   },
   "file_extension": ".py",
   "mimetype": "text/x-python",
   "name": "python",
   "nbconvert_exporter": "python",
   "pygments_lexer": "ipython3",
   "version": "3.9.13"
  },
  "orig_nbformat": 4
 },
 "nbformat": 4,
 "nbformat_minor": 2
}
