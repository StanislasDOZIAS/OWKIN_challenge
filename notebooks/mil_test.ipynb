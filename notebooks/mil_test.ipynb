{
 "cells": [
  {
   "cell_type": "code",
   "execution_count": 1,
   "metadata": {},
   "outputs": [],
   "source": [
    "%load_ext autoreload\n",
    "%autoreload 2"
   ]
  },
  {
   "cell_type": "code",
   "execution_count": 2,
   "metadata": {},
   "outputs": [],
   "source": [
    "from pathlib import Path\n",
    "import glob\n",
    "import os\n",
    "import sys\n",
    "\n",
    "module_path = os.path.abspath(os.path.join('..'))\n",
    "if module_path not in sys.path:\n",
    "    sys.path.append(module_path)\n",
    "\n",
    "import matplotlib.pyplot as plt\n",
    "import seaborn as sns\n",
    "from tqdm import tqdm\n",
    "\n",
    "import copy\n",
    "import pandas as pd\n",
    "import numpy as np\n",
    "import torch\n",
    "\n",
    "from sklearn.metrics import roc_auc_score\n",
    "\n",
    "os.environ[\"WANDB_SILENT\"] = \"true\"\n",
    "\n",
    "from owkin.training import train, RocLoss\n",
    "from owkin.dataset import build_dataset\n",
    "from owkin.models.mono_models import MLP, SVM, LogReg, RandomForest\n",
    "from owkin.models.aggregators import SmoothMaxAggregator, MaxAggregator\n",
    "\n",
    "from mil.models import APR, AttentionDeepPoolingMil, MILES"
   ]
  },
  {
   "cell_type": "code",
   "execution_count": 3,
   "metadata": {},
   "outputs": [],
   "source": [
    "# importing dataset\n",
    "from mil.data.datasets import musk1\n",
    "# importing bag_representation\n",
    "from mil.bag_representation import MILESMapping\n",
    "# importing validation strategy\n",
    "from mil.validators import LeaveOneOut\n",
    "# importing final model, which in this case is the SVC classifier from sklearn\n",
    "from mil.models import SVC\n",
    "# importing trainer\n",
    "from mil.trainer import Trainer\n",
    "# importing preprocessing \n",
    "from mil.preprocessing import StandarizerBagsList\n",
    "# importing metrics, which in this case are from tf keras metrics\n",
    "from mil.metrics import AUC\n",
    "\n",
    "from mil.dimensionality_reduction import PCA"
   ]
  },
  {
   "cell_type": "code",
   "execution_count": 4,
   "metadata": {},
   "outputs": [],
   "source": [
    "# loading dataset\n",
    "#(bags_train, y_train), (bags_test, y_test) = musk1.load()"
   ]
  },
  {
   "cell_type": "code",
   "execution_count": 5,
   "metadata": {},
   "outputs": [],
   "source": [
    "normalizer_type  = \"expo_lambda\"\n",
    "val_center = \"C_5\"\n",
    "\n",
    "X_train, X_train_mean, y_train, X_val, X_val_mean, y_val, X_test, X_test_mean, df_test = build_dataset(normalizer_type=normalizer_type, val_center=val_center)"
   ]
  },
  {
   "cell_type": "code",
   "execution_count": 6,
   "metadata": {},
   "outputs": [],
   "source": [
    "X_train_small = X_train[:10]\n",
    "y_train_small = y_train[:10]\n",
    "\n",
    "\n",
    "X_val_small = X_val[:10]\n",
    "y_val_small = y_val[:10]"
   ]
  },
  {
   "attachments": {},
   "cell_type": "markdown",
   "metadata": {},
   "source": [
    "## Train"
   ]
  },
  {
   "cell_type": "code",
   "execution_count": 7,
   "metadata": {},
   "outputs": [],
   "source": [
    "metrics = ['acc', AUC]"
   ]
  },
  {
   "attachments": {},
   "cell_type": "markdown",
   "metadata": {},
   "source": [
    "### MILES"
   ]
  },
  {
   "attachments": {},
   "cell_type": "markdown",
   "metadata": {},
   "source": [
    "715min, nothing"
   ]
  },
  {
   "cell_type": "code",
   "execution_count": 8,
   "metadata": {},
   "outputs": [],
   "source": [
    "model = MILES() \n",
    "\n",
    "trainer = Trainer()\n",
    "trainer.prepare(model, metrics=metrics)\n",
    "\n",
    "history = trainer.fit(X_train, y_train, sample_weights=None, verbose=1)\n",
    "\n",
    "# printing validation results for each fold\n",
    "print(history['metrics_val'])\n",
    "\n",
    "# predicting metrics for the test set\n",
    "trainer.predict_metrics(X_val, y_val)"
   ]
  },
  {
   "cell_type": "code",
   "execution_count": null,
   "metadata": {},
   "outputs": [],
   "source": [
    "model = MILES() \n",
    "\n",
    "trainer = Trainer()\n",
    "trainer.prepare(model, metrics=metrics)\n",
    "\n",
    "history = trainer.fit(X_train, y_train, sample_weights='balanced', verbose=1)\n",
    "\n",
    "# printing validation results for each fold\n",
    "print(history['metrics_val'])\n",
    "\n",
    "# predicting metrics for the test set\n",
    "trainer.predict_metrics(X_val, y_val)"
   ]
  },
  {
   "attachments": {},
   "cell_type": "markdown",
   "metadata": {},
   "source": [
    "### ADP"
   ]
  },
  {
   "cell_type": "code",
   "execution_count": 12,
   "metadata": {},
   "outputs": [
    {
     "name": "stdout",
     "output_type": "stream",
     "text": [
      "8/8 [==============================] - 11s 938ms/step - loss: 0.6948\n",
      "8/8 [==============================] - 4s 407ms/step\n",
      "1/1 [==============================] - 16s 16s/step - train_accuracy: 0.0000e+00 - train_auc: 0.7446\n",
      "[]\n",
      "3/3 [==============================] - 1s 391ms/step\n"
     ]
    },
    {
     "data": {
      "text/plain": [
       "{'accuracy': 0.0, 'auc': 0.5983564}"
      ]
     },
     "execution_count": 12,
     "metadata": {},
     "output_type": "execute_result"
    }
   ],
   "source": [
    "model = AttentionDeepPoolingMil() \n",
    "\n",
    "trainer = Trainer()\n",
    "trainer.prepare(model, metrics=metrics)\n",
    "\n",
    "history = trainer.fit(X_train, y_train, sample_weights=None, verbose=1)\n",
    "\n",
    "# printing validation results for each fold\n",
    "print(history['metrics_val'])\n",
    "\n",
    "# predicting metrics for the test set\n",
    "trainer.predict_metrics(X_val, y_val)"
   ]
  },
  {
   "cell_type": "code",
   "execution_count": 16,
   "metadata": {},
   "outputs": [
    {
     "name": "stdout",
     "output_type": "stream",
     "text": [
      "8/8 [==============================] - 8s 698ms/step - loss: 0.8743\n",
      "8/8 [==============================] - 4s 414ms/step\n",
      "1/1 [==============================] - 12s 12s/step - train_accuracy: 0.0000e+00 - train_auc: 0.5333\n",
      "[]\n",
      "4/4 [==============================] - 2s 361ms/step\n"
     ]
    },
    {
     "data": {
      "text/plain": [
       "{'accuracy': 0.0, 'auc': 0.48193735}"
      ]
     },
     "execution_count": 16,
     "metadata": {},
     "output_type": "execute_result"
    }
   ],
   "source": [
    "model = AttentionDeepPoolingMil() \n",
    "\n",
    "trainer = Trainer()\n",
    "trainer.prepare(model, metrics=metrics)\n",
    "\n",
    "history = trainer.fit(X_train, y_train, sample_weights='balanced', verbose=1)\n",
    "\n",
    "# printing validation results for each fold\n",
    "print(history['metrics_val'])\n",
    "\n",
    "# predicting metrics for the test set\n",
    "trainer.predict_metrics(X_val, y_val)"
   ]
  },
  {
   "attachments": {},
   "cell_type": "markdown",
   "metadata": {},
   "source": [
    "### APR"
   ]
  },
  {
   "attachments": {},
   "cell_type": "markdown",
   "metadata": {},
   "source": [
    "341min"
   ]
  },
  {
   "cell_type": "code",
   "execution_count": null,
   "metadata": {},
   "outputs": [
    {
     "name": "stdout",
     "output_type": "stream",
     "text": [
      "Iteration: 1, APR size: 415.97, Discriminative features: 2048\n",
      "Iteration: 2, APR size: 305.34, Discriminative features: 992\n",
      "Iteration: 3, APR size: 300.43, Discriminative features: 967\n",
      "---Grow and discriminate has converged---\n",
      "\n",
      "1/1 [==============================] - 20457s 20457s/step - train_accuracy: 0.3770 - train_auc: 0.5000\n",
      "[]\n"
     ]
    },
    {
     "data": {
      "text/plain": [
       "{'accuracy': 0.35869566, 'auc': 0.5}"
      ]
     },
     "execution_count": 10,
     "metadata": {},
     "output_type": "execute_result"
    }
   ],
   "source": [
    "model = APR() \n",
    "\n",
    "trainer = Trainer()\n",
    "trainer.prepare(model, metrics=metrics)\n",
    "history = trainer.fit(X_train, y_train, sample_weights='balanced', verbose=1)\n",
    "\n",
    "# printing validation results for each fold\n",
    "print(history['metrics_val'])\n",
    " \n",
    "# predicting metrics for the test set\n",
    "trainer.predict_metrics(X_val, y_val)"
   ]
  },
  {
   "attachments": {},
   "cell_type": "markdown",
   "metadata": {},
   "source": [
    "## Test"
   ]
  },
  {
   "cell_type": "code",
   "execution_count": null,
   "metadata": {},
   "outputs": [
    {
     "name": "stdout",
     "output_type": "stream",
     "text": [
      "Iteration: 1, APR size: 131.71, Discriminative features: 2048\n",
      "Iteration: 2, APR size: 7.15, Discriminative features: 53\n",
      "Iteration: 3, APR size: 5.54, Discriminative features: 44\n",
      "Iteration: 4, APR size: 8.08, Discriminative features: 36\n",
      "Iteration: 5, APR size: 5.66, Discriminative features: 30\n",
      "Iteration: 6, APR size: 5.8, Discriminative features: 28\n",
      "Iteration: 7, APR size: 4.78, Discriminative features: 25\n",
      "Iteration: 8, APR size: 1.88, Discriminative features: 24\n",
      "---Grow and discriminate has converged---\n",
      "\n",
      "1/1 [==============================] - 107s 107s/step - train_accuracy: 0.4000 - train_auc: 0.5000\n",
      "[]\n"
     ]
    },
    {
     "data": {
      "text/plain": [
       "{'accuracy': 0.35869566, 'auc': 0.5}"
      ]
     },
     "execution_count": 8,
     "metadata": {},
     "output_type": "execute_result"
    }
   ],
   "source": [
    "model = APR() \n",
    "\n",
    "trainer = Trainer()\n",
    "trainer.prepare(model, metrics=metrics)\n",
    "history = trainer.fit(X_train_small, y_train_small, sample_weights='balanced', verbose=1)\n",
    "\n",
    "# printing validation results for each fold\n",
    "print(history['metrics_val'])\n",
    "\n",
    "# predicting metrics for the test set\n",
    "trainer.predict_metrics(X_val, y_val)"
   ]
  },
  {
   "cell_type": "code",
   "execution_count": 9,
   "metadata": {},
   "outputs": [
    {
     "name": "stdout",
     "output_type": "stream",
     "text": [
      "1/1 [==============================] - 3s 3s/step - loss: 0.6942\n",
      "1/1 [==============================] - 1s 556ms/step\n",
      "1/1 [==============================] - 4s 4s/step - train_accuracy: 0.0000e+00 - train_auc: 1.0000\n",
      "[]\n",
      "3/3 [==============================] - 1s 347ms/step\n"
     ]
    },
    {
     "data": {
      "text/plain": [
       "{'accuracy': 0.0, 'auc': 0.498716}"
      ]
     },
     "execution_count": 9,
     "metadata": {},
     "output_type": "execute_result"
    }
   ],
   "source": [
    "model = AttentionDeepPoolingMil() \n",
    "\n",
    "trainer = Trainer()\n",
    "trainer.prepare(model, metrics=metrics)\n",
    "history = trainer.fit(X_train_small, y_train_small, sample_weights='balanced', verbose=1)\n",
    "\n",
    "# printing validation results for each fold\n",
    "print(history['metrics_val'])\n",
    "\n",
    "# predicting metrics for the test set\n",
    "trainer.predict_metrics(X_val, y_val)"
   ]
  }
 ],
 "metadata": {
  "kernelspec": {
   "display_name": "owkin",
   "language": "python",
   "name": "python3"
  },
  "language_info": {
   "codemirror_mode": {
    "name": "ipython",
    "version": 3
   },
   "file_extension": ".py",
   "mimetype": "text/x-python",
   "name": "python",
   "nbconvert_exporter": "python",
   "pygments_lexer": "ipython3",
   "version": "3.9.16"
  },
  "orig_nbformat": 4,
  "vscode": {
   "interpreter": {
    "hash": "a319f299fe27b757af82a95e0b7a01750980362075c597dc751810aa8f4879dd"
   }
  }
 },
 "nbformat": 4,
 "nbformat_minor": 2
}
