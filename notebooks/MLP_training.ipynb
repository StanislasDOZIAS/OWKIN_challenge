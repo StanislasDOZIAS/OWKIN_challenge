{
 "cells": [
  {
   "attachments": {},
   "cell_type": "markdown",
   "metadata": {},
   "source": [
    "## Imports"
   ]
  },
  {
   "cell_type": "code",
   "execution_count": 1,
   "metadata": {},
   "outputs": [],
   "source": [
    "%load_ext autoreload\n",
    "%autoreload 2"
   ]
  },
  {
   "cell_type": "code",
   "execution_count": 2,
   "metadata": {},
   "outputs": [],
   "source": [
    "import os\n",
    "import sys\n",
    "from pathlib import Path\n",
    "\n",
    "module_path = os.path.abspath(os.path.join('..'))\n",
    "if module_path not in sys.path:\n",
    "    sys.path.append(module_path)\n",
    "\n",
    "import torch\n",
    "from torch import nn\n",
    "\n",
    "os.environ[\"WANDB_SILENT\"] = \"true\"\n",
    "\n",
    "from owkin.training import train, RocLoss\n",
    "from owkin.dataset import build_dataset\n",
    "from owkin.models.mono_models import MLP\n",
    "from owkin.models.aggregators import SmoothMaxAggregator"
   ]
  },
  {
   "cell_type": "code",
   "execution_count": 3,
   "metadata": {},
   "outputs": [],
   "source": [
    "if torch.cuda.is_available():\n",
    "    device = torch.device('cuda')\n",
    "else:\n",
    "    device = torch.device('cpu')"
   ]
  },
  {
   "attachments": {},
   "cell_type": "markdown",
   "metadata": {},
   "source": [
    "## Training"
   ]
  },
  {
   "cell_type": "code",
   "execution_count": 4,
   "metadata": {},
   "outputs": [],
   "source": [
    "num_layers = 5\n",
    "inside_dim = 512\n",
    "\n",
    "mono_batch_size = 64\n",
    "mono_nb_epochs = 2000\n",
    "\n",
    "val_center = \"C_1\"\n",
    "normalizer_type = \"expo_lambda\"\n",
    "batch_size = 16\n",
    "nb_epochs = 500\n",
    "\n",
    "mono_lr = 3e-6\n",
    "wd = 1e-1"
   ]
  },
  {
   "cell_type": "code",
   "execution_count": 5,
   "metadata": {},
   "outputs": [],
   "source": [
    "list_val_center = [\"C_1\", \"C_2\", \"C_5\"]\n",
    "list_normalizer_type = [\"None\", \"mean\", \"expo_lambda\"]\n",
    "list_wd = [0, 1e-3, 3e-3, 1e-2]\n",
    "list_lr = [3e-7, 1e-7]"
   ]
  },
  {
   "cell_type": "code",
   "execution_count": 6,
   "metadata": {},
   "outputs": [],
   "source": [
    "for val_center in list_val_center:\n",
    "    for normalizer_type in list_normalizer_type:\n",
    "        X_train, X_train_mean, y_train, X_val, X_val_mean, y_val, X_test, X_test_mean, df_test = build_dataset(normalizer_type=normalizer_type, val_center=val_center)\n",
    "        for wd in list_wd:\n",
    "            mono_model = MLP(num_layers=num_layers, inside_dim=inside_dim)\n",
    "            run_name = Path(f\"./../saved_models/{mono_model.name}/BCELoss/nt_{normalizer_type}/vc_{val_center}/bs_{mono_batch_size}/wd_{'{:.0e}'.format(wd)}/lr_{'{:.0e}'.format(mono_lr)}\")\n",
    "            best_val_score = 0\n",
    "            for model_path in Path(run_name).glob(\"*\"):\n",
    "                val_score = float(model_path.name[-8:-3])\n",
    "                if val_score > best_val_score:\n",
    "                    best_path = model_path\n",
    "                    best_val_score = val_score\n",
    "            mono_model.load_state_dict(torch.load(best_path))\n",
    "\n",
    "            for lr in list_lr:\n",
    "                model = SmoothMaxAggregator(mono_model)\n",
    "                train(X_train,\n",
    "                    y_train,\n",
    "                    X_val,\n",
    "                    y_val,\n",
    "                    model,\n",
    "                    learning_rate=lr,\n",
    "                    weight_decay=wd,\n",
    "                    val_center=val_center,\n",
    "                    normalizer_type=normalizer_type,\n",
    "                    batch_size=batch_size,\n",
    "                    nb_epochs=nb_epochs,\n",
    "                    use_wandb=True,\n",
    "                    device=device,\n",
    "                    exp_name=f\"mono_lr_{mono_lr}\"\n",
    "                )"
   ]
  },
  {
   "cell_type": "code",
   "execution_count": 5,
   "metadata": {},
   "outputs": [],
   "source": [
    "list_val_center = [\"C_1\", \"C_2\", \"C_5\"]\n",
    "list_normalizer_type = [\"None\", \"mean\", \"expo_lambda\"]\n",
    "list_wd = [0, 1e-3, 3e-3, 1e-2]"
   ]
  },
  {
   "cell_type": "code",
   "execution_count": 6,
   "metadata": {},
   "outputs": [
    {
     "data": {
      "application/vnd.jupyter.widget-view+json": {
       "model_id": "e99ef0b3974d4ef7b39cf480690859f8",
       "version_major": 2,
       "version_minor": 0
      },
      "text/plain": [
       "VBox(children=(Label(value='Waiting for wandb.init()...\\r'), FloatProgress(value=0.01693333333338766, max=1.0)…"
      ]
     },
     "metadata": {},
     "output_type": "display_data"
    },
    {
     "data": {
      "application/vnd.jupyter.widget-view+json": {
       "model_id": "4786652273ea4e41b514edecbb59adcb",
       "version_major": 2,
       "version_minor": 0
      },
      "text/plain": [
       "VBox(children=(Label(value='Waiting for wandb.init()...\\r'), FloatProgress(value=0.016666666666666666, max=1.0…"
      ]
     },
     "metadata": {},
     "output_type": "display_data"
    }
   ],
   "source": [
    "for val_center in list_val_center:\n",
    "    for normalizer_type in list_normalizer_type:\n",
    "        X_train, X_train_mean, y_train, X_val, X_val_mean, y_val, X_test, X_test_mean, df_test = build_dataset(normalizer_type=normalizer_type, val_center=val_center)\n",
    "        for wd in list_wd:\n",
    "            mono_model = MLP(num_layers=num_layers, inside_dim=inside_dim)\n",
    "            train(X_train_mean,\n",
    "                y_train,\n",
    "                X_val_mean,\n",
    "                y_val,\n",
    "                mono_model,\n",
    "                learning_rate=mono_lr,\n",
    "                weight_decay=wd,\n",
    "                val_center=val_center,\n",
    "                normalizer_type=normalizer_type,\n",
    "                batch_size=mono_batch_size,\n",
    "                nb_epochs=mono_nb_epochs,\n",
    "                use_wandb=True,\n",
    "                device=device,\n",
    "            )\n",
    "\n",
    "            mono_model.load_state_dict(torch.load(mono_model.best_path))\n",
    "            model = SmoothMaxAggregator(mono_model)\n",
    "            train(X_train,\n",
    "                y_train,\n",
    "                X_val,\n",
    "                y_val,\n",
    "                model,\n",
    "                learning_rate=lr,\n",
    "                weight_decay=wd,\n",
    "                val_center=val_center,\n",
    "                normalizer_type=normalizer_type,\n",
    "                batch_size=batch_size,\n",
    "                nb_epochs=nb_epochs,\n",
    "                use_wandb=True,\n",
    "                device=device,\n",
    "                exp_name=f\"mono_lr_{mono_lr}\"\n",
    "            )"
   ]
  }
 ],
 "metadata": {
  "kernelspec": {
   "display_name": "owkin",
   "language": "python",
   "name": "python3"
  },
  "language_info": {
   "codemirror_mode": {
    "name": "ipython",
    "version": 3
   },
   "file_extension": ".py",
   "mimetype": "text/x-python",
   "name": "python",
   "nbconvert_exporter": "python",
   "pygments_lexer": "ipython3",
   "version": "3.9.16"
  },
  "latex_envs": {
   "LaTeX_envs_menu_present": true,
   "autoclose": false,
   "autocomplete": true,
   "bibliofile": "biblio.bib",
   "cite_by": "apalike",
   "current_citInitial": 1,
   "eqLabelWithNumbers": true,
   "eqNumInitial": 1,
   "hotkeys": {
    "equation": "Ctrl-E",
    "itemize": "Ctrl-I"
   },
   "labels_anchors": false,
   "latex_user_defs": false,
   "report_style_numbering": false,
   "user_envs_cfg": false
  },
  "toc": {
   "base_numbering": 1,
   "nav_menu": {},
   "number_sections": false,
   "sideBar": true,
   "skip_h1_title": false,
   "title_cell": "Table of Contents",
   "title_sidebar": "Contents",
   "toc_cell": false,
   "toc_position": {},
   "toc_section_display": true,
   "toc_window_display": false
  },
  "vscode": {
   "interpreter": {
    "hash": "a319f299fe27b757af82a95e0b7a01750980362075c597dc751810aa8f4879dd"
   }
  }
 },
 "nbformat": 4,
 "nbformat_minor": 2
}
