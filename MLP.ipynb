{
 "cells": [
  {
   "cell_type": "markdown",
   "metadata": {},
   "source": [
    "Before starting, you will need to install some packages to reproduce the baseline."
   ]
  },
  {
   "cell_type": "code",
   "execution_count": 1,
   "metadata": {
    "ExecuteTime": {
     "end_time": "2022-10-24T07:22:50.448803Z",
     "start_time": "2022-10-24T07:22:49.285830Z"
    }
   },
   "outputs": [],
   "source": [
    "from pathlib import Path\n",
    "import os\n",
    "\n",
    "import copy\n",
    "\n",
    "import wandb\n",
    "import matplotlib.pyplot as plt\n",
    "import seaborn as sns\n",
    "from tqdm import tqdm\n",
    "\n",
    "import numpy as np\n",
    "import pandas as pd\n",
    "\n",
    "\n",
    "import torch\n",
    "from torch import nn\n",
    "from torch.utils.data import DataLoader, Dataset\n",
    "\n",
    "from sklearn.metrics import roc_auc_score, RocCurveDisplay\n",
    "from sklearn.model_selection import StratifiedKFold"
   ]
  },
  {
   "cell_type": "markdown",
   "metadata": {
    "ExecuteTime": {
     "end_time": "2022-10-20T09:25:58.896288Z",
     "start_time": "2022-10-20T09:25:58.161711Z"
    }
   },
   "source": [
    "## Data loading"
   ]
  },
  {
   "cell_type": "code",
   "execution_count": 2,
   "metadata": {
    "ExecuteTime": {
     "end_time": "2022-10-24T07:22:50.479040Z",
     "start_time": "2022-10-24T07:22:50.450662Z"
    }
   },
   "outputs": [
    {
     "name": "stdout",
     "output_type": "stream",
     "text": [
      "Training data dimensions: (344, 4)\n"
     ]
    },
    {
     "data": {
      "text/html": [
       "<div>\n",
       "<style scoped>\n",
       "    .dataframe tbody tr th:only-of-type {\n",
       "        vertical-align: middle;\n",
       "    }\n",
       "\n",
       "    .dataframe tbody tr th {\n",
       "        vertical-align: top;\n",
       "    }\n",
       "\n",
       "    .dataframe thead th {\n",
       "        text-align: right;\n",
       "    }\n",
       "</style>\n",
       "<table border=\"1\" class=\"dataframe\">\n",
       "  <thead>\n",
       "    <tr style=\"text-align: right;\">\n",
       "      <th></th>\n",
       "      <th>Sample ID</th>\n",
       "      <th>Patient ID</th>\n",
       "      <th>Center ID</th>\n",
       "      <th>Target</th>\n",
       "    </tr>\n",
       "  </thead>\n",
       "  <tbody>\n",
       "    <tr>\n",
       "      <th>0</th>\n",
       "      <td>ID_001.npy</td>\n",
       "      <td>P_001</td>\n",
       "      <td>C_1</td>\n",
       "      <td>0</td>\n",
       "    </tr>\n",
       "    <tr>\n",
       "      <th>1</th>\n",
       "      <td>ID_002.npy</td>\n",
       "      <td>P_002</td>\n",
       "      <td>C_2</td>\n",
       "      <td>1</td>\n",
       "    </tr>\n",
       "    <tr>\n",
       "      <th>2</th>\n",
       "      <td>ID_005.npy</td>\n",
       "      <td>P_005</td>\n",
       "      <td>C_5</td>\n",
       "      <td>0</td>\n",
       "    </tr>\n",
       "    <tr>\n",
       "      <th>3</th>\n",
       "      <td>ID_006.npy</td>\n",
       "      <td>P_006</td>\n",
       "      <td>C_5</td>\n",
       "      <td>0</td>\n",
       "    </tr>\n",
       "    <tr>\n",
       "      <th>4</th>\n",
       "      <td>ID_007.npy</td>\n",
       "      <td>P_007</td>\n",
       "      <td>C_2</td>\n",
       "      <td>1</td>\n",
       "    </tr>\n",
       "  </tbody>\n",
       "</table>\n",
       "</div>"
      ],
      "text/plain": [
       "    Sample ID Patient ID Center ID  Target\n",
       "0  ID_001.npy      P_001       C_1       0\n",
       "1  ID_002.npy      P_002       C_2       1\n",
       "2  ID_005.npy      P_005       C_5       0\n",
       "3  ID_006.npy      P_006       C_5       0\n",
       "4  ID_007.npy      P_007       C_2       1"
      ]
     },
     "execution_count": 2,
     "metadata": {},
     "output_type": "execute_result"
    }
   ],
   "source": [
    "# put your own path to the data root directory (see example in `Data architecture` section)\n",
    "data_dir = Path(\"data/\")\n",
    "\n",
    "# load the training and testing data sets\n",
    "train_features_dir = data_dir / \"train_input\" / \"moco_features\"\n",
    "test_features_dir = data_dir / \"test_input\" / \"moco_features\"\n",
    "df_train_val = pd.read_csv(data_dir  / \"supplementary_data\" / \"train_metadata.csv\")\n",
    "df_test = pd.read_csv(data_dir  / \"supplementary_data\" / \"test_metadata.csv\")\n",
    "\n",
    "# concatenate y_train_val and df_train_val\n",
    "y_train_val = pd.read_csv(data_dir  / \"train_output.csv\")\n",
    "df_train_val = df_train_val.merge(y_train_val, on=\"Sample ID\")\n",
    "\n",
    "print(f\"Training data dimensions: {df_train_val.shape}\")  # (344, 4)\n",
    "df_train_val.head()"
   ]
  },
  {
   "cell_type": "markdown",
   "metadata": {},
   "source": [
    "## Data processing"
   ]
  },
  {
   "cell_type": "markdown",
   "metadata": {},
   "source": [
    "We now load the features matrices $\\mathbf{K_s} \\in \\mathbb{R}^{(1000,\\,2048)}$ for $s=1,...,344$ and perform slide-level averaging. This operation should take at most 5 minutes on your laptop."
   ]
  },
  {
   "cell_type": "code",
   "execution_count": 3,
   "metadata": {},
   "outputs": [
    {
     "name": "stderr",
     "output_type": "stream",
     "text": [
      "100%|██████████| 344/344 [00:17<00:00, 19.94it/s]\n"
     ]
    }
   ],
   "source": [
    "X_train_val = []\n",
    "X_train_val_all = []\n",
    "y_train_val = []\n",
    "\n",
    "centers_train_val = []\n",
    "patients_train_val = []\n",
    "\n",
    "for sample, label, center, patient in tqdm(\n",
    "    df_train_val[[\"Sample ID\", \"Target\", \"Center ID\", \"Patient ID\"]].values\n",
    "):\n",
    "    # load the coordinates and features (1000, 3+2048)\n",
    "    _features = np.load(train_features_dir / sample)\n",
    "    # get coordinates (zoom level, tile x-coord on the slide, tile y-coord on the slide)\n",
    "    # and the MoCo V2 features\n",
    "    coordinates, features = _features[:, :3], _features[:, 3:]  # Ks\n",
    "    # slide-level averaging\n",
    "    X_train_val.append(np.mean(features, axis=0))\n",
    "    X_train_val_all.append(features)\n",
    "    y_train_val.append(label)\n",
    "\n",
    "    centers_train_val.append(center)\n",
    "    patients_train_val.append(patient)\n",
    "\n",
    "# convert to numpy arrays\n",
    "X_train_val = np.array(X_train_val)\n",
    "X_train_val_all = np.array(X_train_val_all)\n",
    "y_train_val = np.array(y_train_val)\n",
    "\n",
    "centers_train_val = np.array(centers_train_val)\n",
    "patients_train_val = np.array(patients_train_val)"
   ]
  },
  {
   "cell_type": "code",
   "execution_count": 4,
   "metadata": {},
   "outputs": [
    {
     "name": "stdout",
     "output_type": "stream",
     "text": [
      "Training set specifications\n",
      "---------------------------\n",
      "344 unique samples\n",
      "305 unique patients\n",
      "\n"
     ]
    }
   ],
   "source": [
    "patients_unique = np.unique(patients_train_val)\n",
    "y_unique = np.array(\n",
    "    [np.mean(y_train_val[patients_train_val == p]) for p in patients_unique]\n",
    ")\n",
    "\n",
    "print(\n",
    "    \"Training set specifications\\n\"\n",
    "    \"---------------------------\\n\"\n",
    "    f\"{len(X_train_val)} unique samples\\n\"\n",
    "    f\"{len(patients_unique)} unique patients\\n\"\n",
    ")"
   ]
  },
  {
   "cell_type": "code",
   "execution_count": 5,
   "metadata": {},
   "outputs": [],
   "source": [
    "kfold = StratifiedKFold(5, shuffle=True, random_state=42)\n",
    "# split is performed at the patient-level\n",
    "for train_idx_, val_idx_ in kfold.split(patients_unique, y_unique):\n",
    "    # retrieve the indexes of the samples corresponding to the\n",
    "    # patients in `train_idx_` and `val_idx_`\n",
    "    train_idx = np.arange(len(X_train_val))[\n",
    "        pd.Series(patients_train_val).isin(patients_unique[train_idx_])\n",
    "    ]\n",
    "    val_idx = np.arange(len(X_train_val))[\n",
    "        pd.Series(patients_train_val).isin(patients_unique[val_idx_])\n",
    "    ]\n",
    "    # set the training and validation folds\n",
    "    X_train = X_train_val[train_idx]\n",
    "    X_val = X_train_val[val_idx]\n",
    "\n",
    "    X_train_all = X_train_val_all[train_idx]\n",
    "    X_val_all = X_train_val_all[val_idx]\n",
    "\n",
    "    y_train = y_train_val[train_idx]\n",
    "    y_val = y_train_val[val_idx]\n",
    "    break"
   ]
  },
  {
   "attachments": {},
   "cell_type": "markdown",
   "metadata": {},
   "source": [
    "## Model definition"
   ]
  },
  {
   "cell_type": "code",
   "execution_count": 6,
   "metadata": {},
   "outputs": [],
   "source": [
    "class MLP(nn.Module):\n",
    "  '''\n",
    "    Multilayer Perceptron.\n",
    "  '''\n",
    "  def __init__(self, num_layers=1, inside_dim=0):\n",
    "    super().__init__()\n",
    "    self.inside_dim = inside_dim\n",
    "    self.num_layers = num_layers\n",
    "    self.name = f\"MLP/num_layers_{num_layers}_inside_dim_{inside_dim}\"\n",
    "    self.model_type = \"MLP\"\n",
    "    self.best_path = None\n",
    "    \n",
    "    if num_layers==1:\n",
    "      self.layers = nn.Sequential(\n",
    "        nn.Linear(2048, 1),\n",
    "        nn.Sigmoid(),\n",
    "        )\n",
    "\n",
    "    else:\n",
    "      list_layers = [nn.Linear(2048, inside_dim),nn.Dropout(p=0.2), nn.ReLU()]\n",
    "      for _ in range(num_layers-2):\n",
    "        list_layers.append(nn.Linear(inside_dim, inside_dim))\n",
    "        list_layers.append(nn.Dropout(p=0.2))\n",
    "        list_layers.append(nn.ReLU())\n",
    "      list_layers.append(nn.Linear(inside_dim, 1))\n",
    "      list_layers.append(nn.Sigmoid())\n",
    "      self.layers = nn.Sequential(*list_layers)\n",
    "\n",
    "\n",
    "  def forward(self, x):\n",
    "    '''Forward pass'''\n",
    "    return self.layers(x)"
   ]
  },
  {
   "cell_type": "code",
   "execution_count": 7,
   "metadata": {},
   "outputs": [],
   "source": [
    "class MaxModel(nn.Module):\n",
    "  def __init__(self, model):\n",
    "    super().__init__()\n",
    "    self.model = copy.deepcopy(model)\n",
    "    self.name = f\"MaxModel/{model.name}\"\n",
    "    self.model_type = f\"MaxModel/{model.model_type}\"\n",
    "    self.best_path = None\n",
    "\n",
    "  def forward(self, x):\n",
    "    '''Forward pass on the 1000 features'''\n",
    "    model_predictions = self.model(x)\n",
    "    max_prediction, _ = model_predictions.max(axis=-2)\n",
    "    return max_prediction"
   ]
  },
  {
   "cell_type": "code",
   "execution_count": 8,
   "metadata": {},
   "outputs": [],
   "source": [
    "class SmoothMaxModel(nn.Module):\n",
    "  def __init__(self, model):\n",
    "    super().__init__()\n",
    "    self.model = copy.deepcopy(model)\n",
    "    self.name = f\"SmoothMaxModel/{model.name}\"\n",
    "    self.model_type = f\"SmoothMaxModel/{model.model_type}\"\n",
    "    self.best_path = None\n",
    "\n",
    "  def forward(self, x):\n",
    "    '''Forward pass on the 1000 features'''\n",
    "    model_predictions = self.model(x)\n",
    "    max_prediction = (torch.log(torch.exp(model_predictions).sum(axis=-2)) / model_predictions.shape[-2])\n",
    "    return max_prediction"
   ]
  },
  {
   "cell_type": "code",
   "execution_count": 9,
   "metadata": {},
   "outputs": [],
   "source": [
    "class CustomDataset(Dataset):\n",
    "    def __init__(self, X, y):\n",
    "        self.X = X\n",
    "        self.y = y\n",
    "\n",
    "    def __len__(self):\n",
    "        return len(self.X)\n",
    "\n",
    "    def __getitem__(self, idx):\n",
    "        return self.X[idx], self.y[idx]"
   ]
  },
  {
   "cell_type": "code",
   "execution_count": 10,
   "metadata": {},
   "outputs": [],
   "source": [
    "class RocLoss(nn.Module):\n",
    "    def __init__(self):\n",
    "        super().__init__()\n",
    "    \n",
    "    def forward(self, y_predict, y):\n",
    "        y_predict_pos = y_predict[y == 1]\n",
    "        y_predict_neg = y_predict[y == 0]\n",
    "\n",
    "        return ((1 - y_predict_pos.unsqueeze(dim=0) + y_predict_neg.unsqueeze(dim=1)).clamp_min(0)).mean()"
   ]
  },
  {
   "cell_type": "code",
   "execution_count": 11,
   "metadata": {},
   "outputs": [],
   "source": [
    "def train(X_train, y_train, X_val, y_val, model, lr=1e-6, batch_size=64, nb_epochs=5000, criterion=nn.BCELoss(), use_wandb=False, exp_name=None):\n",
    "    train_set = CustomDataset(X_train, y_train)\n",
    "    train_dataloader = DataLoader(train_set, batch_size=batch_size,  drop_last=True)\n",
    "    optimizer = torch.optim.Adam(model.parameters(), lr=lr)\n",
    "    \n",
    "    try:\n",
    "        if use_wandb:\n",
    "            if model.model_type == \"MLP\":\n",
    "                config = {\n",
    "                    \"learning_rate\": lr,\n",
    "                    \"batch_size\": batch_size,\n",
    "                    \"inside_dim\": model.inside_dim,\n",
    "                    \"num_layers\": model.num_layers\n",
    "                    }\n",
    "            elif model.model_type in [\"MaxModel/MLP\", \"SmoothMaxModel/MLP\"]:\n",
    "                config = {\n",
    "                    \"learning_rate\": lr,\n",
    "                    \"batch_size\": batch_size,\n",
    "                    \"inside_dim\": model.model.inside_dim,\n",
    "                    \"num_layers\": model.model.num_layers\n",
    "                    }\n",
    "            \n",
    "            run_name = f\"{model.name}/{criterion._get_name()}/lr_{'{:.0e}'.format(lr)}/bs_{batch_size}\"\n",
    "            if exp_name is not None:\n",
    "                wandb.init(project=\"OWKIN\", name=f\"{exp_name}/{run_name}\", config=config)\n",
    "            else :\n",
    "                wandb.init(project=\"OWKIN\", name=run_name, config=config)\n",
    "\n",
    "        best_val_roc_auc_score = 0\n",
    "        best_epoch = 0\n",
    "        best_state_dict = copy.deepcopy(model.state_dict())\n",
    "\n",
    "        for epoch in range(1, nb_epochs+1):\n",
    "            model.train()\n",
    "            train_losses = []\n",
    "            for x, y in train_dataloader:\n",
    "                y_predict = model(x.to(\"cuda\"))\n",
    "                loss = criterion(y_predict.cpu(), y.unsqueeze(dim=1).float())\n",
    "                loss.backward()\n",
    "                optimizer.step()\n",
    "                train_losses.append(loss.item())\n",
    "            train_loss = np.array(train_losses).mean()\n",
    "\n",
    "            model.eval()\n",
    "            train_roc_auc_score = roc_auc_score(y_train, model(torch.Tensor(X_train).cuda()).cpu().detach())\n",
    "            val_roc_auc_score = roc_auc_score(y_val, model(torch.Tensor(X_val).cuda()).cpu().detach())\n",
    "\n",
    "            if val_roc_auc_score > best_val_roc_auc_score:\n",
    "                best_val_roc_auc_score = val_roc_auc_score\n",
    "                best_epoch = epoch\n",
    "                best_state_dict = copy.deepcopy(model.state_dict())\n",
    "\n",
    "            if use_wandb:\n",
    "                to_log = {}\n",
    "                to_log[\"main/train_loss\"] = train_loss\n",
    "                to_log[\"main/train_roc_auc_score\"] = train_roc_auc_score\n",
    "                to_log[\"main/val_roc_auc_score\"] = val_roc_auc_score\n",
    "                wandb.log(to_log)\n",
    "\n",
    "            elif epoch % (nb_epochs//10) == 0:\n",
    "                print(f\"epoch {epoch}: loss={'{:.3f}'.format(train_loss)}, train_roc_auc_score={'{:.3f}'.format(train_roc_auc_score)}, val_auc_roc_auc_score={'{:.3f}'.format(val_roc_auc_score)}\")\n",
    "\n",
    "    except KeyboardInterrupt:\n",
    "        pass\n",
    "\n",
    "    if use_wandb:\n",
    "        wandb.finish()\n",
    "    PATH_DIR = Path(f\"models/{model.name}\")\n",
    "    PATH = PATH_DIR / f\"best_epoch_{best_epoch}_score_{'{:.3f}'.format(best_val_roc_auc_score)}.pt\"\n",
    "\n",
    "    model.best_path = PATH\n",
    "\n",
    "    if not PATH_DIR.is_dir():\n",
    "        os.makedirs(PATH_DIR)\n",
    "\n",
    "    torch.save(best_state_dict, PATH)"
   ]
  },
  {
   "attachments": {},
   "cell_type": "markdown",
   "metadata": {},
   "source": [
    "## Trainings"
   ]
  },
  {
   "attachments": {},
   "cell_type": "markdown",
   "metadata": {},
   "source": [
    "### MLP"
   ]
  },
  {
   "cell_type": "code",
   "execution_count": 12,
   "metadata": {},
   "outputs": [],
   "source": [
    "num_layers = 2\n",
    "inside_dim = 512\n",
    "model = MLP(num_layers=num_layers, inside_dim=inside_dim)\n",
    "model.cuda()\n",
    "\n",
    "lr=1e-5\n",
    "batch_size = 64\n",
    "nb_epochs = 2000"
   ]
  },
  {
   "cell_type": "code",
   "execution_count": 13,
   "metadata": {},
   "outputs": [
    {
     "name": "stdout",
     "output_type": "stream",
     "text": [
      "epoch 200: loss=0.503, train_roc_auc_score=0.832, val_auc_roc_auc_score=0.736\n",
      "epoch 400: loss=0.395, train_roc_auc_score=0.883, val_auc_roc_auc_score=0.726\n",
      "epoch 600: loss=0.306, train_roc_auc_score=0.923, val_auc_roc_auc_score=0.731\n",
      "epoch 800: loss=0.248, train_roc_auc_score=0.944, val_auc_roc_auc_score=0.723\n",
      "epoch 1000: loss=0.192, train_roc_auc_score=0.954, val_auc_roc_auc_score=0.731\n",
      "epoch 1200: loss=0.244, train_roc_auc_score=0.962, val_auc_roc_auc_score=0.729\n",
      "epoch 1400: loss=0.254, train_roc_auc_score=0.967, val_auc_roc_auc_score=0.737\n",
      "epoch 1600: loss=0.126, train_roc_auc_score=0.968, val_auc_roc_auc_score=0.729\n",
      "epoch 1800: loss=0.233, train_roc_auc_score=0.969, val_auc_roc_auc_score=0.725\n",
      "epoch 2000: loss=0.173, train_roc_auc_score=0.970, val_auc_roc_auc_score=0.722\n"
     ]
    }
   ],
   "source": [
    "train(X_train, y_train, X_val, y_val, model, lr=lr, batch_size=batch_size, nb_epochs=nb_epochs, use_wandb=False)"
   ]
  },
  {
   "cell_type": "code",
   "execution_count": 14,
   "metadata": {},
   "outputs": [
    {
     "name": "stdout",
     "output_type": "stream",
     "text": [
      "model got already a best path:\n",
      "best path: models\\MLP\\num_layers_2_inside_dim_512\\best_epoch_1274_score_0.742.pt\n",
      "val score: 0.7420948616600791\n"
     ]
    }
   ],
   "source": [
    "if model.best_path is None:\n",
    "    best_val_score = 0\n",
    "    best_path = None\n",
    "    for model_path in Path(f\"models/{model.name}\").glob(\"*\"):\n",
    "        val_score = float(model_path.name[-8:-3])\n",
    "        if val_score > best_val_score:\n",
    "            best_path = model_path\n",
    "            best_val_score = val_score\n",
    "    model.best_path = best_path\n",
    "else:\n",
    "    print(\"model got already a best path:\")\n",
    "    \n",
    "print(f\"best path: {model.best_path}\")\n",
    "\n",
    "model.load_state_dict(torch.load(model.best_path))\n",
    "model.eval()\n",
    "\n",
    "print(f\"val score: {roc_auc_score(y_val, model(torch.Tensor(X_val).cuda()).cpu().detach())}\")"
   ]
  },
  {
   "attachments": {},
   "cell_type": "markdown",
   "metadata": {},
   "source": [
    "### MaxModel/MLP"
   ]
  },
  {
   "cell_type": "code",
   "execution_count": 15,
   "metadata": {},
   "outputs": [],
   "source": [
    "max_model = MaxModel(model)\n",
    "max_model.cuda()\n",
    "\n",
    "lr = 1e-5\n",
    "batch_size = 16\n",
    "nb_epochs = 4000"
   ]
  },
  {
   "cell_type": "code",
   "execution_count": 16,
   "metadata": {},
   "outputs": [
    {
     "name": "stderr",
     "output_type": "stream",
     "text": [
      "Failed to detect the name of this notebook, you can set it manually with the WANDB_NOTEBOOK_NAME environment variable to enable code saving.\n",
      "\u001b[34m\u001b[1mwandb\u001b[0m: Currently logged in as: \u001b[33mstanislasdozias\u001b[0m. Use \u001b[1m`wandb login --relogin`\u001b[0m to force relogin\n"
     ]
    },
    {
     "data": {
      "text/html": [
       "Tracking run with wandb version 0.13.9"
      ],
      "text/plain": [
       "<IPython.core.display.HTML object>"
      ]
     },
     "metadata": {},
     "output_type": "display_data"
    },
    {
     "data": {
      "text/html": [
       "Run data is saved locally in <code>c:\\Users\\stani\\Documents\\MVA\\S2\\Modèles_information_physique_statistique\\OWKIN_challenge\\wandb\\run-20230123_104223-jcaapoaw</code>"
      ],
      "text/plain": [
       "<IPython.core.display.HTML object>"
      ]
     },
     "metadata": {},
     "output_type": "display_data"
    },
    {
     "data": {
      "text/html": [
       "Syncing run <strong><a href=\"https://wandb.ai/stanislasdozias/OWKIN/runs/jcaapoaw\" target=\"_blank\">MaxModel/MLP/num_layers_2_inside_dim_512/BCELoss/lr_1e-05/bs_16</a></strong> to <a href=\"https://wandb.ai/stanislasdozias/OWKIN\" target=\"_blank\">Weights & Biases</a> (<a href=\"https://wandb.me/run\" target=\"_blank\">docs</a>)<br/>"
      ],
      "text/plain": [
       "<IPython.core.display.HTML object>"
      ]
     },
     "metadata": {},
     "output_type": "display_data"
    },
    {
     "data": {
      "text/html": [
       " View project at <a href=\"https://wandb.ai/stanislasdozias/OWKIN\" target=\"_blank\">https://wandb.ai/stanislasdozias/OWKIN</a>"
      ],
      "text/plain": [
       "<IPython.core.display.HTML object>"
      ]
     },
     "metadata": {},
     "output_type": "display_data"
    },
    {
     "data": {
      "text/html": [
       " View run at <a href=\"https://wandb.ai/stanislasdozias/OWKIN/runs/jcaapoaw\" target=\"_blank\">https://wandb.ai/stanislasdozias/OWKIN/runs/jcaapoaw</a>"
      ],
      "text/plain": [
       "<IPython.core.display.HTML object>"
      ]
     },
     "metadata": {},
     "output_type": "display_data"
    },
    {
     "data": {
      "text/html": [
       "Waiting for W&B process to finish... <strong style=\"color:green\">(success).</strong>"
      ],
      "text/plain": [
       "<IPython.core.display.HTML object>"
      ]
     },
     "metadata": {},
     "output_type": "display_data"
    },
    {
     "data": {
      "application/vnd.jupyter.widget-view+json": {
       "model_id": "deef362f2f7a4440bf25b64e2912d6f4",
       "version_major": 2,
       "version_minor": 0
      },
      "text/plain": [
       "VBox(children=(Label(value='0.001 MB of 0.004 MB uploaded (0.000 MB deduped)\\r'), FloatProgress(value=0.322118…"
      ]
     },
     "metadata": {},
     "output_type": "display_data"
    },
    {
     "data": {
      "text/html": [
       "<style>\n",
       "    table.wandb td:nth-child(1) { padding: 0 10px; text-align: left ; width: auto;} td:nth-child(2) {text-align: left ; width: 100%}\n",
       "    .wandb-row { display: flex; flex-direction: row; flex-wrap: wrap; justify-content: flex-start; width: 100% }\n",
       "    .wandb-col { display: flex; flex-direction: column; flex-basis: 100%; flex: 1; padding: 10px; }\n",
       "    </style>\n",
       "<div class=\"wandb-row\"><div class=\"wandb-col\"><h3>Run history:</h3><br/><table class=\"wandb\"><tr><td>main/train_loss</td><td>█▂▂▂▁▁▁▁▁▁▁▁▁▁▁▁▁▁▁▁▁▁▁▁▁▁▁▁▁▁▁▁▁▁▁▁▁▁▁▁</td></tr><tr><td>main/train_roc_auc_score</td><td>▁▄▇█████████████████████████████████████</td></tr><tr><td>main/val_roc_auc_score</td><td>▅▄▇█▇▆▄▃▁▁▁▂▃▃▃▃▄▄▄▅▅▄▅▅▅▆▆▆▅▅▅▆▆▆▆▅▅▆▆▆</td></tr></table><br/></div><div class=\"wandb-col\"><h3>Run summary:</h3><br/><table class=\"wandb\"><tr><td>main/train_loss</td><td>0.0</td></tr><tr><td>main/train_roc_auc_score</td><td>0.99994</td></tr><tr><td>main/val_roc_auc_score</td><td>0.57856</td></tr></table><br/></div></div>"
      ],
      "text/plain": [
       "<IPython.core.display.HTML object>"
      ]
     },
     "metadata": {},
     "output_type": "display_data"
    },
    {
     "data": {
      "text/html": [
       " View run <strong style=\"color:#cdcd00\">MaxModel/MLP/num_layers_2_inside_dim_512/BCELoss/lr_1e-05/bs_16</strong> at: <a href=\"https://wandb.ai/stanislasdozias/OWKIN/runs/jcaapoaw\" target=\"_blank\">https://wandb.ai/stanislasdozias/OWKIN/runs/jcaapoaw</a><br/>Synced 4 W&B file(s), 0 media file(s), 0 artifact file(s) and 0 other file(s)"
      ],
      "text/plain": [
       "<IPython.core.display.HTML object>"
      ]
     },
     "metadata": {},
     "output_type": "display_data"
    },
    {
     "data": {
      "text/html": [
       "Find logs at: <code>.\\wandb\\run-20230123_104223-jcaapoaw\\logs</code>"
      ],
      "text/plain": [
       "<IPython.core.display.HTML object>"
      ]
     },
     "metadata": {},
     "output_type": "display_data"
    }
   ],
   "source": [
    "train(X_train_all, y_train, X_val_all, y_val, max_model, lr=lr, batch_size=batch_size, nb_epochs=nb_epochs, use_wandb=True)"
   ]
  },
  {
   "cell_type": "code",
   "execution_count": 17,
   "metadata": {},
   "outputs": [
    {
     "name": "stdout",
     "output_type": "stream",
     "text": [
      "model got already a best path:\n",
      "best path: models\\MaxModel\\MLP\\num_layers_2_inside_dim_512\\best_epoch_50_score_0.634.pt\n",
      "val score: 0.6343873517786561\n"
     ]
    }
   ],
   "source": [
    "if max_model.best_path is None:\n",
    "    best_val_score = 0\n",
    "    best_path = None\n",
    "    for model_path in Path(f\"models/{max_model.name}\").glob(\"*\"):\n",
    "        val_score = float(model_path.name[-8:-3])\n",
    "        if val_score > best_val_score:\n",
    "            best_path = model_path\n",
    "            best_val_score = val_score\n",
    "    max_model.best_path = best_path\n",
    "else:\n",
    "    print(\"model got already a best path:\")\n",
    "\n",
    "print(f\"best path: {max_model.best_path}\")\n",
    "\n",
    "max_model.load_state_dict(torch.load(max_model.best_path))\n",
    "max_model.eval()\n",
    "\n",
    "print(f\"val score: {roc_auc_score(y_val, max_model(torch.Tensor(X_val_all).cuda()).cpu().detach())}\")"
   ]
  },
  {
   "attachments": {},
   "cell_type": "markdown",
   "metadata": {},
   "source": [
    "### SmoothMaxModel/MLP"
   ]
  },
  {
   "cell_type": "code",
   "execution_count": 20,
   "metadata": {},
   "outputs": [],
   "source": [
    "smooth_max_model = SmoothMaxModel(model)\n",
    "smooth_max_model.cuda()\n",
    "\n",
    "lr = 1e-6\n",
    "batch_size = 16\n",
    "nb_epochs = 4000"
   ]
  },
  {
   "cell_type": "code",
   "execution_count": 21,
   "metadata": {},
   "outputs": [
    {
     "data": {
      "text/html": [
       "Tracking run with wandb version 0.13.9"
      ],
      "text/plain": [
       "<IPython.core.display.HTML object>"
      ]
     },
     "metadata": {},
     "output_type": "display_data"
    },
    {
     "data": {
      "text/html": [
       "Run data is saved locally in <code>c:\\Users\\stani\\Documents\\MVA\\S2\\Modèles_information_physique_statistique\\OWKIN_challenge\\wandb\\run-20230123_134609-zuxmtxxs</code>"
      ],
      "text/plain": [
       "<IPython.core.display.HTML object>"
      ]
     },
     "metadata": {},
     "output_type": "display_data"
    },
    {
     "data": {
      "text/html": [
       "Syncing run <strong><a href=\"https://wandb.ai/stanislasdozias/OWKIN/runs/zuxmtxxs\" target=\"_blank\">SmoothMaxModel/MLP/num_layers_2_inside_dim_512/BCELoss/lr_1e-06/bs_16</a></strong> to <a href=\"https://wandb.ai/stanislasdozias/OWKIN\" target=\"_blank\">Weights & Biases</a> (<a href=\"https://wandb.me/run\" target=\"_blank\">docs</a>)<br/>"
      ],
      "text/plain": [
       "<IPython.core.display.HTML object>"
      ]
     },
     "metadata": {},
     "output_type": "display_data"
    },
    {
     "data": {
      "text/html": [
       " View project at <a href=\"https://wandb.ai/stanislasdozias/OWKIN\" target=\"_blank\">https://wandb.ai/stanislasdozias/OWKIN</a>"
      ],
      "text/plain": [
       "<IPython.core.display.HTML object>"
      ]
     },
     "metadata": {},
     "output_type": "display_data"
    },
    {
     "data": {
      "text/html": [
       " View run at <a href=\"https://wandb.ai/stanislasdozias/OWKIN/runs/zuxmtxxs\" target=\"_blank\">https://wandb.ai/stanislasdozias/OWKIN/runs/zuxmtxxs</a>"
      ],
      "text/plain": [
       "<IPython.core.display.HTML object>"
      ]
     },
     "metadata": {},
     "output_type": "display_data"
    },
    {
     "data": {
      "text/html": [
       "Waiting for W&B process to finish... <strong style=\"color:green\">(success).</strong>"
      ],
      "text/plain": [
       "<IPython.core.display.HTML object>"
      ]
     },
     "metadata": {},
     "output_type": "display_data"
    },
    {
     "data": {
      "application/vnd.jupyter.widget-view+json": {
       "model_id": "372cca3cb1d243ccaec2d46eb6952ffb",
       "version_major": 2,
       "version_minor": 0
      },
      "text/plain": [
       "VBox(children=(Label(value='0.001 MB of 0.004 MB uploaded (0.000 MB deduped)\\r'), FloatProgress(value=0.307108…"
      ]
     },
     "metadata": {},
     "output_type": "display_data"
    },
    {
     "data": {
      "text/html": [
       "<style>\n",
       "    table.wandb td:nth-child(1) { padding: 0 10px; text-align: left ; width: auto;} td:nth-child(2) {text-align: left ; width: 100%}\n",
       "    .wandb-row { display: flex; flex-direction: row; flex-wrap: wrap; justify-content: flex-start; width: 100% }\n",
       "    .wandb-col { display: flex; flex-direction: column; flex-basis: 100%; flex: 1; padding: 10px; }\n",
       "    </style>\n",
       "<div class=\"wandb-row\"><div class=\"wandb-col\"><h3>Run history:</h3><br/><table class=\"wandb\"><tr><td>main/train_loss</td><td>█▄▂▂▁▁▁▁▁▁▁▁▁▁▁▁▁▁▁▁▁▁▁▁▁▁▁▁▁▁▁▁▁▁▁▁▁▁▁▁</td></tr><tr><td>main/train_roc_auc_score</td><td>███▇▆▅▄▄▄▄▃▃▂▂▂▁▁▁▁▁▁▁▁▁▁▁▁▁▁▁▁▁▁▁▁▁▁▁▁▁</td></tr><tr><td>main/val_roc_auc_score</td><td>▆▇▇███▇▇▇▇▆▄▂▂▂▂▁▁▁▁▁▁▁▁▁▁▁▁▁▁▁▁▁▁▁▁▁▁▁▁</td></tr></table><br/></div><div class=\"wandb-col\"><h3>Run summary:</h3><br/><table class=\"wandb\"><tr><td>main/train_loss</td><td>1.87322</td></tr><tr><td>main/train_roc_auc_score</td><td>0.5</td></tr><tr><td>main/val_roc_auc_score</td><td>0.5</td></tr></table><br/></div></div>"
      ],
      "text/plain": [
       "<IPython.core.display.HTML object>"
      ]
     },
     "metadata": {},
     "output_type": "display_data"
    },
    {
     "data": {
      "text/html": [
       " View run <strong style=\"color:#cdcd00\">SmoothMaxModel/MLP/num_layers_2_inside_dim_512/BCELoss/lr_1e-06/bs_16</strong> at: <a href=\"https://wandb.ai/stanislasdozias/OWKIN/runs/zuxmtxxs\" target=\"_blank\">https://wandb.ai/stanislasdozias/OWKIN/runs/zuxmtxxs</a><br/>Synced 4 W&B file(s), 0 media file(s), 0 artifact file(s) and 0 other file(s)"
      ],
      "text/plain": [
       "<IPython.core.display.HTML object>"
      ]
     },
     "metadata": {},
     "output_type": "display_data"
    },
    {
     "data": {
      "text/html": [
       "Find logs at: <code>.\\wandb\\run-20230123_134609-zuxmtxxs\\logs</code>"
      ],
      "text/plain": [
       "<IPython.core.display.HTML object>"
      ]
     },
     "metadata": {},
     "output_type": "display_data"
    }
   ],
   "source": [
    "train(X_train_all, y_train, X_val_all, y_val, smooth_max_model, lr=lr, batch_size=batch_size, nb_epochs=nb_epochs, use_wandb=True)"
   ]
  },
  {
   "cell_type": "code",
   "execution_count": 22,
   "metadata": {},
   "outputs": [
    {
     "name": "stdout",
     "output_type": "stream",
     "text": [
      "model got already a best path:\n",
      "best path: models\\SmoothMaxModel\\MLP\\num_layers_2_inside_dim_512\\best_epoch_417_score_0.837.pt\n",
      "val score: 0.8369565217391305\n"
     ]
    }
   ],
   "source": [
    "if smooth_max_model.best_path is None:\n",
    "    best_val_score = 0\n",
    "    best_path = None\n",
    "    for model_path in Path(f\"models/{smooth_max_model.name}\").glob(\"*\"):\n",
    "        val_score = float(model_path.name[-8:-3])\n",
    "        if val_score > best_val_score:\n",
    "            best_path = model_path\n",
    "            best_val_score = val_score\n",
    "    smooth_max_model.best_path = best_path\n",
    "else:\n",
    "    print(\"model got already a best path:\")\n",
    "\n",
    "print(f\"best path: {smooth_max_model.best_path}\")\n",
    "\n",
    "smooth_max_model.load_state_dict(torch.load(smooth_max_model.best_path))\n",
    "smooth_max_model.eval()\n",
    "\n",
    "print(f\"val score: {roc_auc_score(y_val, smooth_max_model(torch.Tensor(X_val_all).cuda()).cpu().detach())}\")"
   ]
  },
  {
   "attachments": {},
   "cell_type": "markdown",
   "metadata": {},
   "source": [
    "## Analysis"
   ]
  },
  {
   "cell_type": "code",
   "execution_count": 23,
   "metadata": {},
   "outputs": [],
   "source": [
    "# trainings finished, we put all on cpu\n",
    "model.cpu()\n",
    "model.eval()\n",
    "\n",
    "max_model.cpu()\n",
    "max_model.eval()\n",
    "\n",
    "smooth_max_model.cpu()\n",
    "smooth_max_model.eval()\n",
    "pass"
   ]
  },
  {
   "cell_type": "code",
   "execution_count": 24,
   "metadata": {},
   "outputs": [],
   "source": [
    "val_predictions = model(torch.Tensor(X_val)).detach().cpu()\n",
    "\n",
    "val_max_preditions = max_model(torch.Tensor(X_val_all)).detach().cpu()\n",
    "\n",
    "val_smooth_max_preditions = smooth_max_model(torch.Tensor(X_val_all)).detach().cpu()"
   ]
  },
  {
   "attachments": {},
   "cell_type": "markdown",
   "metadata": {},
   "source": [
    "### ROC Curve"
   ]
  },
  {
   "cell_type": "code",
   "execution_count": 25,
   "metadata": {},
   "outputs": [
    {
     "data": {
      "text/plain": [
       "<sklearn.metrics._plot.roc_curve.RocCurveDisplay at 0x18503ddf730>"
      ]
     },
     "execution_count": 25,
     "metadata": {},
     "output_type": "execute_result"
    },
    {
     "data": {
      "image/png": "[encoded data removed]",
      "text/plain": [
       "<Figure size 640x480 with 1 Axes>"
      ]
     },
     "metadata": {},
     "output_type": "display_data"
    }
   ],
   "source": [
    "# Predictions of model\n",
    "RocCurveDisplay.from_predictions(y_val, val_predictions)"
   ]
  },
  {
   "cell_type": "code",
   "execution_count": 26,
   "metadata": {},
   "outputs": [
    {
     "data": {
      "text/plain": [
       "<sklearn.metrics._plot.roc_curve.RocCurveDisplay at 0x18503ddfe20>"
      ]
     },
     "execution_count": 26,
     "metadata": {},
     "output_type": "execute_result"
    },
    {
     "data": {
      "image/png": "[encoded data removed]",
      "text/plain": [
       "<Figure size 640x480 with 1 Axes>"
      ]
     },
     "metadata": {},
     "output_type": "display_data"
    }
   ],
   "source": [
    "# Predictions of max model\n",
    "RocCurveDisplay.from_predictions(y_val, val_max_preditions)"
   ]
  },
  {
   "cell_type": "code",
   "execution_count": 27,
   "metadata": {},
   "outputs": [
    {
     "data": {
      "text/plain": [
       "<sklearn.metrics._plot.roc_curve.RocCurveDisplay at 0x18507dc7790>"
      ]
     },
     "execution_count": 27,
     "metadata": {},
     "output_type": "execute_result"
    },
    {
     "data": {
      "image/png": "[encoded data removed]",
      "text/plain": [
       "<Figure size 640x480 with 1 Axes>"
      ]
     },
     "metadata": {},
     "output_type": "display_data"
    }
   ],
   "source": [
    "# Predictions of smooth max model\n",
    "RocCurveDisplay.from_predictions(y_val, val_smooth_max_preditions)"
   ]
  },
  {
   "attachments": {},
   "cell_type": "markdown",
   "metadata": {},
   "source": [
    "## Repartitions"
   ]
  },
  {
   "cell_type": "code",
   "execution_count": null,
   "metadata": {},
   "outputs": [],
   "source": [
    "X_positive_train = X_train_all[y_train == 1]\n",
    "X_negative_train = X_train_all[y_train == 0]"
   ]
  },
  {
   "cell_type": "code",
   "execution_count": null,
   "metadata": {},
   "outputs": [],
   "source": [
    "all_positive_features = torch.Tensor(X_positive_train)\n",
    "all_negative_features = torch.Tensor(X_negative_train)\n",
    "\n",
    "all_positive_predict = max_model(all_positive_features).flatten()\n",
    "all_negative_predict = max_model(all_negative_features).flatten()"
   ]
  },
  {
   "cell_type": "code",
   "execution_count": null,
   "metadata": {},
   "outputs": [
    {
     "data": {
      "image/png": "[encoded data removed]",
      "text/plain": [
       "<Figure size 640x480 with 1 Axes>"
      ]
     },
     "metadata": {},
     "output_type": "display_data"
    }
   ],
   "source": [
    "sns.histplot(all_positive_predict.detach(), label=\"positive\")\n",
    "sns.histplot(all_negative_predict.detach(), label=\"negative\", color=\"r\")\n",
    "plt.legend()\n",
    "plt.show()"
   ]
  },
  {
   "cell_type": "code",
   "execution_count": null,
   "metadata": {},
   "outputs": [
    {
     "ename": "ValueError",
     "evalue": "",
     "output_type": "error",
     "traceback": [
      "\u001b[1;31m---------------------------------------------------------------------------\u001b[0m",
      "\u001b[1;31mValueError\u001b[0m                                Traceback (most recent call last)",
      "Cell \u001b[1;32mIn[1], line 1\u001b[0m\n\u001b[1;32m----> 1\u001b[0m \u001b[39mraise\u001b[39;00m \u001b[39mValueError\u001b[39;00m\n",
      "\u001b[1;31mValueError\u001b[0m: "
     ]
    }
   ],
   "source": [
    "raise ValueError"
   ]
  },
  {
   "attachments": {},
   "cell_type": "markdown",
   "metadata": {},
   "source": [
    "## Inference for submission"
   ]
  },
  {
   "cell_type": "code",
   "execution_count": 28,
   "metadata": {},
   "outputs": [],
   "source": [
    "submit_model = smooth_max_model"
   ]
  },
  {
   "cell_type": "code",
   "execution_count": 29,
   "metadata": {},
   "outputs": [
    {
     "name": "stderr",
     "output_type": "stream",
     "text": [
      "100%|██████████| 149/149 [00:09<00:00, 16.05it/s]\n"
     ]
    }
   ],
   "source": [
    "X_test = []\n",
    "X_test_all = []\n",
    "\n",
    "# load the data from `df_test` (~ 1 minute)\n",
    "for sample in tqdm(df_test[\"Sample ID\"].values):\n",
    "    _features = np.load(test_features_dir / sample)\n",
    "    coordinates, features = _features[:, :3], _features[:, 3:]\n",
    "    X_test.append(np.mean(features, axis=0))\n",
    "    X_test_all.append(features)\n",
    "\n",
    "X_test = np.array(X_test)\n",
    "X_test_all = np.array(X_test_all)"
   ]
  },
  {
   "cell_type": "code",
   "execution_count": 30,
   "metadata": {},
   "outputs": [],
   "source": [
    "if submit_model.model_type == model.model_type:\n",
    "    y_test = submit_model(torch.Tensor(X_test).cuda()).cpu().detach().squeeze().numpy()\n",
    "if submit_model.model_type in [max_model.model_type, smooth_max_model.model_type]:\n",
    "    y_test = submit_model(torch.Tensor(X_test_all)).cpu().detach().squeeze().numpy()"
   ]
  },
  {
   "cell_type": "code",
   "execution_count": 34,
   "metadata": {},
   "outputs": [
    {
     "data": {
      "text/html": [
       "<div>\n",
       "<style scoped>\n",
       "    .dataframe tbody tr th:only-of-type {\n",
       "        vertical-align: middle;\n",
       "    }\n",
       "\n",
       "    .dataframe tbody tr th {\n",
       "        vertical-align: top;\n",
       "    }\n",
       "\n",
       "    .dataframe thead th {\n",
       "        text-align: right;\n",
       "    }\n",
       "</style>\n",
       "<table border=\"1\" class=\"dataframe\">\n",
       "  <thead>\n",
       "    <tr style=\"text-align: right;\">\n",
       "      <th></th>\n",
       "      <th>Sample ID</th>\n",
       "      <th>Target</th>\n",
       "    </tr>\n",
       "  </thead>\n",
       "  <tbody>\n",
       "    <tr>\n",
       "      <th>0</th>\n",
       "      <td>ID_003.npy</td>\n",
       "      <td>0.007905</td>\n",
       "    </tr>\n",
       "    <tr>\n",
       "      <th>1</th>\n",
       "      <td>ID_004.npy</td>\n",
       "      <td>0.007904</td>\n",
       "    </tr>\n",
       "    <tr>\n",
       "      <th>2</th>\n",
       "      <td>ID_008.npy</td>\n",
       "      <td>0.007902</td>\n",
       "    </tr>\n",
       "    <tr>\n",
       "      <th>3</th>\n",
       "      <td>ID_009.npy</td>\n",
       "      <td>0.007891</td>\n",
       "    </tr>\n",
       "    <tr>\n",
       "      <th>4</th>\n",
       "      <td>ID_010.npy</td>\n",
       "      <td>0.007893</td>\n",
       "    </tr>\n",
       "  </tbody>\n",
       "</table>\n",
       "</div>"
      ],
      "text/plain": [
       "    Sample ID    Target\n",
       "0  ID_003.npy  0.007905\n",
       "1  ID_004.npy  0.007904\n",
       "2  ID_008.npy  0.007902\n",
       "3  ID_009.npy  0.007891\n",
       "4  ID_010.npy  0.007893"
      ]
     },
     "execution_count": 34,
     "metadata": {},
     "output_type": "execute_result"
    }
   ],
   "source": [
    "submission = pd.DataFrame(\n",
    "    {\"Sample ID\": df_test[\"Sample ID\"].values, \"Target\": y_test}\n",
    ").sort_values(\n",
    "    \"Sample ID\"\n",
    ")  # extra step to sort the sample IDs\n",
    "\n",
    "# sanity checks\n",
    "assert all(submission[\"Target\"].between(0, 1)), \"`Target` values must be in [0, 1]\"\n",
    "assert submission.shape == (149, 2), \"Your submission file must be of shape (149, 2)\"\n",
    "assert list(submission.columns) == [\n",
    "    \"Sample ID\",\n",
    "    \"Target\",\n",
    "], \"Your submission file must have columns `Sample ID` and `Target`\"\n",
    "\n",
    "# save the submission as a csv file\n",
    "\n",
    "PATH_DIR = Path(data_dir / f\"test_outputs/\"/submit_model.model_type)\n",
    "if not PATH_DIR.is_dir():\n",
    "    os.makedirs(PATH_DIR)\n",
    "submission.to_csv(data_dir / f\"test_outputs/{submit_model.name}.csv\", index=None)\n",
    "submission.head()"
   ]
  },
  {
   "cell_type": "code",
   "execution_count": null,
   "metadata": {},
   "outputs": [],
   "source": []
  }
 ],
 "metadata": {
  "kernelspec": {
   "display_name": "owkin",
   "language": "python",
   "name": "python3"
  },
  "language_info": {
   "codemirror_mode": {
    "name": "ipython",
    "version": 3
   },
   "file_extension": ".py",
   "mimetype": "text/x-python",
   "name": "python",
   "nbconvert_exporter": "python",
   "pygments_lexer": "ipython3",
   "version": "3.9.16"
  },
  "latex_envs": {
   "LaTeX_envs_menu_present": true,
   "autoclose": false,
   "autocomplete": true,
   "bibliofile": "biblio.bib",
   "cite_by": "apalike",
   "current_citInitial": 1,
   "eqLabelWithNumbers": true,
   "eqNumInitial": 1,
   "hotkeys": {
    "equation": "Ctrl-E",
    "itemize": "Ctrl-I"
   },
   "labels_anchors": false,
   "latex_user_defs": false,
   "report_style_numbering": false,
   "user_envs_cfg": false
  },
  "toc": {
   "base_numbering": 1,
   "nav_menu": {},
   "number_sections": false,
   "sideBar": true,
   "skip_h1_title": false,
   "title_cell": "Table of Contents",
   "title_sidebar": "Contents",
   "toc_cell": false,
   "toc_position": {},
   "toc_section_display": true,
   "toc_window_display": false
  },
  "vscode": {
   "interpreter": {
    "hash": "a319f299fe27b757af82a95e0b7a01750980362075c597dc751810aa8f4879dd"
   }
  }
 },
 "nbformat": 4,
 "nbformat_minor": 2
}
